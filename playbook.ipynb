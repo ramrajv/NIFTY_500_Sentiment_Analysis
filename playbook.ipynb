{
  "cells": [
    {
      "cell_type": "markdown",
      "metadata": {
        "id": "view-in-github",
        "colab_type": "text"
      },
      "source": [
        "<a href=\"https://colab.research.google.com/github/ramrajv/NIFTY_500_Sentiment_Analysis/blob/main/playbook.ipynb\" target=\"_parent\"><img src=\"https://colab.research.google.com/assets/colab-badge.svg\" alt=\"Open In Colab\"/></a>"
      ]
    },
    {
      "cell_type": "markdown",
      "metadata": {
        "id": "ufe_-6Siwhgg"
      },
      "source": [
        "Imports"
      ]
    },
    {
      "cell_type": "code",
      "source": [
        "import os, sys\n",
        "from google.colab import drive\n",
        "drive.mount('/content/drive')\n",
        "nb_path = '/content/notebooks'\n",
        "os.symlink('/content/drive/My Drive/Colab Notebooks', nb_path)\n",
        "sys.path.insert(0,nb_path)"
      ],
      "metadata": {
        "colab": {
          "base_uri": "https://localhost:8080/"
        },
        "id": "alEi-DrDwp3y",
        "outputId": "9cf0d722-0e9b-428a-c9fe-52e7b84ff5f2"
      },
      "execution_count": 2,
      "outputs": [
        {
          "output_type": "stream",
          "name": "stdout",
          "text": [
            "Mounted at /content/drive\n"
          ]
        }
      ]
    },
    {
      "cell_type": "code",
      "source": [
        "# !pip install --target=$nb_path nsepython"
      ],
      "metadata": {
        "id": "63Am9Wc-IJK4",
        "outputId": "6cb9c459-1db1-4d72-c38d-55d38729dca6",
        "colab": {
          "base_uri": "https://localhost:8080/"
        }
      },
      "execution_count": 3,
      "outputs": [
        {
          "output_type": "stream",
          "name": "stdout",
          "text": [
            "Looking in indexes: https://pypi.org/simple, https://us-python.pkg.dev/colab-wheels/public/simple/\n",
            "Collecting nsepython\n",
            "  Downloading nsepython-0.0.973-py3-none-any.whl (22 kB)\n",
            "Collecting scipy\n",
            "  Downloading scipy-1.10.0-cp38-cp38-manylinux_2_17_x86_64.manylinux2014_x86_64.whl (34.5 MB)\n",
            "\u001b[2K     \u001b[90m━━━━━━━━━━━━━━━━━━━━━━━━━━━━━━━━━━━━━━━━\u001b[0m \u001b[32m34.5/34.5 MB\u001b[0m \u001b[31m31.7 MB/s\u001b[0m eta \u001b[36m0:00:00\u001b[0m\n",
            "\u001b[?25hCollecting requests\n",
            "  Downloading requests-2.28.2-py3-none-any.whl (62 kB)\n",
            "\u001b[2K     \u001b[90m━━━━━━━━━━━━━━━━━━━━━━━━━━━━━━━━━━━━━━━━\u001b[0m \u001b[32m62.8/62.8 KB\u001b[0m \u001b[31m7.4 MB/s\u001b[0m eta \u001b[36m0:00:00\u001b[0m\n",
            "\u001b[?25hCollecting pandas\n",
            "  Downloading pandas-1.5.3-cp38-cp38-manylinux_2_17_x86_64.manylinux2014_x86_64.whl (12.2 MB)\n",
            "\u001b[2K     \u001b[90m━━━━━━━━━━━━━━━━━━━━━━━━━━━━━━━━━━━━━━━━\u001b[0m \u001b[32m12.2/12.2 MB\u001b[0m \u001b[31m74.4 MB/s\u001b[0m eta \u001b[36m0:00:00\u001b[0m\n",
            "\u001b[?25hCollecting numpy>=1.20.3\n",
            "  Downloading numpy-1.24.1-cp38-cp38-manylinux_2_17_x86_64.manylinux2014_x86_64.whl (17.3 MB)\n",
            "\u001b[2K     \u001b[90m━━━━━━━━━━━━━━━━━━━━━━━━━━━━━━━━━━━━━━━━\u001b[0m \u001b[32m17.3/17.3 MB\u001b[0m \u001b[31m30.9 MB/s\u001b[0m eta \u001b[36m0:00:00\u001b[0m\n",
            "\u001b[?25hCollecting pytz>=2020.1\n",
            "  Downloading pytz-2022.7.1-py2.py3-none-any.whl (499 kB)\n",
            "\u001b[2K     \u001b[90m━━━━━━━━━━━━━━━━━━━━━━━━━━━━━━━━━━━━━━\u001b[0m \u001b[32m499.4/499.4 KB\u001b[0m \u001b[31m29.0 MB/s\u001b[0m eta \u001b[36m0:00:00\u001b[0m\n",
            "\u001b[?25hCollecting python-dateutil>=2.8.1\n",
            "  Downloading python_dateutil-2.8.2-py2.py3-none-any.whl (247 kB)\n",
            "\u001b[2K     \u001b[90m━━━━━━━━━━━━━━━━━━━━━━━━━━━━━━━━━━━━━━\u001b[0m \u001b[32m247.7/247.7 KB\u001b[0m \u001b[31m11.6 MB/s\u001b[0m eta \u001b[36m0:00:00\u001b[0m\n",
            "\u001b[?25hCollecting urllib3<1.27,>=1.21.1\n",
            "  Downloading urllib3-1.26.14-py2.py3-none-any.whl (140 kB)\n",
            "\u001b[2K     \u001b[90m━━━━━━━━━━━━━━━━━━━━━━━━━━━━━━━━━━━━━━━\u001b[0m \u001b[32m140.6/140.6 KB\u001b[0m \u001b[31m7.8 MB/s\u001b[0m eta \u001b[36m0:00:00\u001b[0m\n",
            "\u001b[?25hCollecting idna<4,>=2.5\n",
            "  Downloading idna-3.4-py3-none-any.whl (61 kB)\n",
            "\u001b[2K     \u001b[90m━━━━━━━━━━━━━━━━━━━━━━━━━━━━━━━━━━━━━━━━\u001b[0m \u001b[32m61.5/61.5 KB\u001b[0m \u001b[31m3.6 MB/s\u001b[0m eta \u001b[36m0:00:00\u001b[0m\n",
            "\u001b[?25hCollecting charset-normalizer<4,>=2\n",
            "  Downloading charset_normalizer-3.0.1-cp38-cp38-manylinux_2_17_x86_64.manylinux2014_x86_64.whl (195 kB)\n",
            "\u001b[2K     \u001b[90m━━━━━━━━━━━━━━━━━━━━━━━━━━━━━━━━━━━━━━\u001b[0m \u001b[32m195.4/195.4 KB\u001b[0m \u001b[31m15.4 MB/s\u001b[0m eta \u001b[36m0:00:00\u001b[0m\n",
            "\u001b[?25hCollecting certifi>=2017.4.17\n",
            "  Downloading certifi-2022.12.7-py3-none-any.whl (155 kB)\n",
            "\u001b[2K     \u001b[90m━━━━━━━━━━━━━━━━━━━━━━━━━━━━━━━━━━━━━━\u001b[0m \u001b[32m155.3/155.3 KB\u001b[0m \u001b[31m11.8 MB/s\u001b[0m eta \u001b[36m0:00:00\u001b[0m\n",
            "\u001b[?25hCollecting six>=1.5\n",
            "  Downloading six-1.16.0-py2.py3-none-any.whl (11 kB)\n",
            "Installing collected packages: pytz, charset-normalizer, urllib3, six, numpy, idna, certifi, scipy, requests, python-dateutil, pandas, nsepython\n",
            "\u001b[31mERROR: pip's dependency resolver does not currently take into account all the packages that are installed. This behaviour is the source of the following dependency conflicts.\n",
            "ipython 7.9.0 requires jedi>=0.10, which is not installed.\n",
            "numba 0.56.4 requires numpy<1.24,>=1.18, but you have numpy 1.24.1 which is incompatible.\n",
            "aiohttp 3.8.3 requires charset-normalizer<3.0,>=2.0, but you have charset-normalizer 3.0.1 which is incompatible.\u001b[0m\u001b[31m\n",
            "\u001b[0mSuccessfully installed certifi-2022.12.7 charset-normalizer-3.0.1 idna-3.4 nsepython-0.0.973 numpy-1.24.1 pandas-1.5.3 python-dateutil-2.8.2 pytz-2022.7.1 requests-2.28.2 scipy-1.10.0 six-1.16.0 urllib3-1.26.14\n"
          ]
        }
      ]
    },
    {
      "cell_type": "markdown",
      "source": [
        "# Imports"
      ],
      "metadata": {
        "id": "chDNSbkP1UII"
      }
    },
    {
      "cell_type": "code",
      "execution_count": 4,
      "metadata": {
        "colab": {
          "base_uri": "https://localhost:8080/"
        },
        "id": "oo0dFt6awhgj",
        "outputId": "b9683b07-4713-40b0-de96-25b1509ab0c7"
      },
      "outputs": [
        {
          "output_type": "stream",
          "name": "stderr",
          "text": [
            "[nltk_data] Downloading package vader_lexicon to /root/nltk_data...\n"
          ]
        }
      ],
      "source": [
        "import pandas as pd\n",
        "import numpy as np\n",
        "from urllib.request import urlopen, Request\n",
        "import requests\n",
        "from bs4 import BeautifulSoup\n",
        "from pprint import pprint\n",
        "from nsepython import *\n",
        "import datetime\n",
        "import pytz\n",
        "#import time\n",
        "\n",
        "import nltk\n",
        "nltk.downloader.download('vader_lexicon')\n",
        "from nltk.sentiment.vader import SentimentIntensityAnalyzer\n",
        "\n",
        "import pandas as pd\n",
        "import matplotlib.pyplot as plt\n",
        "import plotly\n",
        "import plotly.express as px"
      ]
    },
    {
      "cell_type": "markdown",
      "metadata": {
        "id": "-WaIkHCEwhgp"
      },
      "source": [
        "Get Company Sector, industry data"
      ]
    },
    {
      "cell_type": "code",
      "source": [
        "nifty_500_ticker_url = 'https://www1.nseindia.com/content/indices/ind_nifty500list.csv'\n",
        "nifty_200_ticker_url = 'https://www1.nseindia.com/content/indices/ind_nifty200list.csv'\n",
        "nifty_100_ticker_url = 'https://www1.nseindia.com/content/indices/ind_nifty100list.csv'\n",
        "nifty_50_ticker_url = 'https://www1.nseindia.com/content/indices/ind_nifty50list.csv'\n",
        "tickers_file = pd.read_csv(nifty_500_ticker_url)\n",
        "tickers_df = tickers_file[['Symbol', 'Company Name']]\n",
        "tickers = tickers_df['Symbol']"
      ],
      "metadata": {
        "id": "2XMdGKiw0lQe"
      },
      "execution_count": 5,
      "outputs": []
    },
    {
      "cell_type": "code",
      "source": [
        "# Get articles and put them into a df\n",
        "news_url = 'https://ticker.finology.in/company/'"
      ],
      "metadata": {
        "id": "SgsAOOOs0qq2"
      },
      "execution_count": 6,
      "outputs": []
    },
    {
      "cell_type": "code",
      "execution_count": 8,
      "metadata": {
        "colab": {
          "base_uri": "https://localhost:8080/"
        },
        "id": "dkBWBnWNwhgp",
        "outputId": "78a0a000-eaa9-4279-a248-b07c49ed7052"
      },
      "outputs": [
        {
          "output_type": "stream",
          "name": "stdout",
          "text": [
            "Fetching Article data..\n",
            "0 360ONE\n",
            "1 3MINDIA\n",
            "2 ABB\n",
            "3 ACC\n",
            "4 AIAENG\n",
            "5 APLAPOLLO\n",
            "6 AUBANK\n",
            "7 AARTIDRUGS\n",
            "8 AAVAS\n",
            "9 ABBOTINDIA\n",
            "10 ADANIENT\n",
            "11 ADANIGREEN\n",
            "12 ADANIPORTS\n",
            "13 ATGL\n",
            "14 ADANITRANS\n",
            "15 AWL\n",
            "16 ABCAPITAL\n",
            "17 ABFRL\n",
            "18 ABSLAMC\n",
            "19 AEGISCHEM\n",
            "20 AETHER\n",
            "21 AFFLE\n",
            "22 AJANTPHARM\n",
            "23 APLLTD\n",
            "24 ALKEM\n",
            "25 ALKYLAMINE\n",
            "26 ALOKINDS\n",
            "27 AMARAJABAT\n",
            "28 AMBER\n",
            "29 AMBUJACEM\n",
            "30 ANGELONE\n",
            "31 ANURAS\n",
            "32 APOLLOHOSP\n",
            "33 APOLLOTYRE\n",
            "34 APTUS\n",
            "35 ASAHIINDIA\n",
            "36 ASHOKLEY\n",
            "37 ASIANPAINT\n",
            "38 ASTERDM\n",
            "39 ASTRAZEN\n",
            "40 ASTRAL\n",
            "41 ATUL\n",
            "42 AUROPHARMA\n",
            "43 AVANTIFEED\n",
            "44 DMART\n",
            "45 AXISBANK\n",
            "46 BASF\n",
            "47 BEML\n",
            "48 BSE\n",
            "49 BAJAJ-AUTO\n",
            "50 BAJAJELEC\n",
            "51 BAJFINANCE\n",
            "52 BAJAJFINSV\n",
            "53 BAJAJHLDNG\n",
            "54 BALAMINES\n",
            "55 BALKRISIND\n",
            "56 BALRAMCHIN\n",
            "57 BANDHANBNK\n",
            "58 BANKBARODA\n",
            "59 BANKINDIA\n",
            "60 MAHABANK\n",
            "61 BATAINDIA\n",
            "62 BAYERCROP\n",
            "63 BERGEPAINT\n",
            "64 BDL\n",
            "65 BEL\n",
            "66 BHARATFORG\n",
            "67 BHEL\n",
            "68 BPCL\n",
            "69 BHARATRAS\n",
            "70 BHARTIARTL\n",
            "71 BIOCON\n",
            "72 BIRLACORPN\n",
            "73 BSOFT\n",
            "74 BLUEDART\n",
            "75 BLUESTARCO\n",
            "76 BBTC\n",
            "77 BORORENEW\n",
            "78 BOSCHLTD\n",
            "79 BRIGADE\n",
            "80 BCG\n",
            "81 BRITANNIA\n",
            "82 MAPMYINDIA\n",
            "83 CCL\n",
            "84 CESC\n",
            "85 CGPOWER\n",
            "86 CRISIL\n",
            "87 CSBBANK\n",
            "88 CAMPUS\n",
            "89 CANFINHOME\n",
            "90 CANBK\n",
            "91 CAPLIPOINT\n",
            "92 CGCL\n",
            "93 CARBORUNIV\n",
            "94 CASTROLIND\n",
            "95 CEATLTD\n",
            "96 CENTRALBK\n",
            "97 CDSL\n",
            "98 CENTURYPLY\n",
            "99 CENTURYTEX\n",
            "100 CERA\n",
            "101 CHALET\n",
            "102 CHAMBLFERT\n",
            "103 CHEMPLASTS\n",
            "104 CHOLAHLDNG\n",
            "105 CHOLAFIN\n",
            "106 CIPLA\n",
            "107 CUB\n",
            "108 CLEAN\n",
            "109 COALINDIA\n",
            "110 COCHINSHIP\n",
            "111 COFORGE\n",
            "112 COLPAL\n",
            "113 CAMS\n",
            "114 CONCOR\n",
            "115 COROMANDEL\n",
            "116 CREDITACC\n",
            "117 CROMPTON\n",
            "118 CUMMINSIND\n",
            "119 CYIENT\n",
            "120 DCMSHRIRAM\n",
            "121 DLF\n",
            "122 DABUR\n",
            "123 DALBHARAT\n",
            "124 DEEPAKFERT\n",
            "125 DEEPAKNTR\n",
            "126 DELHIVERY\n",
            "127 DELTACORP\n",
            "128 DEVYANI\n",
            "129 DHANI\n",
            "130 DBL\n",
            "131 DIVISLAB\n",
            "132 DIXON\n",
            "133 LALPATHLAB\n",
            "134 DRREDDY\n",
            "135 EIDPARRY\n",
            "136 EIHOTEL\n",
            "137 EPL\n",
            "138 EASEMYTRIP\n",
            "139 EDELWEISS\n",
            "140 EICHERMOT\n",
            "141 ELGIEQUIP\n",
            "142 EMAMILTD\n",
            "143 ENDURANCE\n",
            "144 ENGINERSIN\n",
            "145 EQUITASBNK\n",
            "146 ESCORTS\n",
            "147 EXIDEIND\n",
            "148 FDC\n",
            "149 NYKAA\n",
            "150 FEDERALBNK\n",
            "151 FACT\n",
            "152 FINEORG\n",
            "153 FINCABLES\n",
            "154 FINPIPE\n",
            "155 FSL\n",
            "156 FORTIS\n",
            "157 GRINFRA\n",
            "158 GAIL\n",
            "159 GMMPFAUDLR\n",
            "160 GMRINFRA\n",
            "161 GALAXYSURF\n",
            "162 GARFIBRES\n",
            "163 GICRE\n",
            "164 GLAND\n",
            "165 GLAXO\n",
            "166 GLENMARK\n",
            "167 GOCOLORS\n",
            "168 GODFRYPHLP\n",
            "169 GODREJAGRO\n",
            "170 GODREJCP\n",
            "171 GODREJIND\n",
            "172 GODREJPROP\n",
            "173 GRANULES\n",
            "174 GRAPHITE\n",
            "175 GRASIM\n",
            "176 GESHIP\n",
            "177 GREENPANEL\n",
            "178 GRINDWELL\n",
            "179 GUJALKALI\n",
            "180 GAEL\n",
            "181 FLUOROCHEM\n",
            "182 GUJGASLTD\n",
            "183 GNFC\n",
            "184 GPPL\n",
            "185 GSFC\n",
            "186 GSPL\n",
            "187 HEG\n",
            "188 HCLTECH\n",
            "189 HDFCAMC\n",
            "190 HDFCBANK\n",
            "191 HDFCLIFE\n",
            "192 HFCL\n",
            "193 HLEGLAS\n",
            "194 HAPPSTMNDS\n",
            "195 HATSUN\n",
            "196 HAVELLS\n",
            "197 HEROMOTOCO\n",
            "198 HIKAL\n",
            "199 HINDALCO\n",
            "200 HGS\n",
            "201 HAL\n",
            "202 HINDCOPPER\n",
            "203 HINDPETRO\n",
            "204 HINDUNILVR\n",
            "205 HINDZINC\n",
            "206 POWERINDIA\n",
            "207 HOMEFIRST\n",
            "208 HONAUT\n",
            "209 HUDCO\n",
            "210 HDFC\n",
            "211 ICICIBANK\n",
            "212 ICICIGI\n",
            "213 ICICIPRULI\n",
            "214 ISEC\n",
            "215 IDBI\n",
            "216 IDFCFIRSTB\n",
            "217 IDFC\n",
            "218 IFBIND\n",
            "219 IIFL\n",
            "220 IRB\n",
            "221 ITC\n",
            "222 ITI\n",
            "223 INDIACEM\n",
            "224 IBULHSGFIN\n",
            "225 IBREALEST\n",
            "226 INDIAMART\n",
            "227 INDIANB\n",
            "228 IEX\n",
            "229 INDHOTEL\n",
            "230 IOC\n",
            "231 IOB\n",
            "232 IRCTC\n",
            "233 IRFC\n",
            "No news found for IRFC\n",
            "234 INDIGOPNTS\n",
            "235 INDOCO\n",
            "236 IGL\n",
            "237 INDUSTOWER\n",
            "238 INDUSINDBK\n",
            "239 INFIBEAM\n",
            "240 NAUKRI\n",
            "241 INFY\n",
            "242 INOXLEISUR\n",
            "243 INTELLECT\n",
            "244 INDIGO\n",
            "245 IPCALAB\n",
            "246 JBCHEPHARM\n",
            "247 JKCEMENT\n",
            "248 JBMA\n",
            "249 JKLAKSHMI\n",
            "250 JKPAPER\n",
            "251 JMFINANCIL\n",
            "252 JSWENERGY\n",
            "253 JSWSTEEL\n",
            "254 JAMNAAUTO\n",
            "255 JSL\n",
            "256 JINDALSTEL\n",
            "257 JUBLFOOD\n",
            "258 JUBLINGREA\n",
            "259 JUBLPHARMA\n",
            "260 JUSTDIAL\n",
            "261 JYOTHYLAB\n",
            "262 KPRMILL\n",
            "263 KEI\n",
            "264 KNRCON\n",
            "265 KPITTECH\n",
            "266 KRBL\n",
            "267 KAJARIACER\n",
            "268 KALPATPOWR\n",
            "269 KALYANKJIL\n",
            "270 KANSAINER\n",
            "271 KARURVYSYA\n",
            "272 KEC\n",
            "273 KOTAKBANK\n",
            "274 KIMS\n",
            "275 L&TFH\n",
            "No news found for L&TFH\n",
            "276 LTTS\n",
            "277 LICHSGFIN\n",
            "278 LTIM\n",
            "279 LAXMIMACH\n",
            "280 LT\n",
            "281 LATENTVIEW\n",
            "282 LAURUSLABS\n",
            "283 LXCHEM\n",
            "284 LEMONTREE\n",
            "285 LICI\n",
            "286 LINDEINDIA\n",
            "287 LUPIN\n",
            "288 LUXIND\n",
            "289 MMTC\n",
            "290 MOIL\n",
            "291 MRF\n",
            "292 MTARTECH\n",
            "293 LODHA\n",
            "294 MGL\n",
            "295 M&MFIN\n",
            "No news found for M&MFIN\n",
            "296 M&M\n",
            "No news found for M&M\n",
            "297 MAHINDCIE\n",
            "298 MHRIL\n",
            "299 MAHLIFE\n",
            "300 MAHLOG\n",
            "301 MANAPPURAM\n",
            "302 MRPL\n",
            "303 MARICO\n",
            "304 MARUTI\n",
            "305 MASTEK\n",
            "306 MFSL\n",
            "307 MAXHEALTH\n",
            "308 MAZDOCK\n",
            "309 MEDPLUS\n",
            "310 METROBRAND\n",
            "311 METROPOLIS\n",
            "312 MSUMI\n",
            "313 MOTILALOFS\n",
            "314 MPHASIS\n",
            "315 MCX\n",
            "316 MUTHOOTFIN\n",
            "317 NATCOPHARM\n",
            "318 NBCC\n",
            "319 NCC\n",
            "320 NHPC\n",
            "321 NLCINDIA\n",
            "322 NOCIL\n",
            "323 NTPC\n",
            "324 NH\n",
            "325 NATIONALUM\n",
            "326 NAVINFLUOR\n",
            "327 NAZARA\n",
            "328 NESTLEIND\n",
            "329 NETWORK18\n",
            "330 NAM-INDIA\n",
            "331 NUVOCO\n",
            "332 OBEROIRLTY\n",
            "333 ONGC\n",
            "334 OIL\n",
            "335 OLECTRA\n",
            "336 PAYTM\n",
            "337 OFSS\n",
            "338 ORIENTELEC\n",
            "339 POLICYBZR\n",
            "340 PCBL\n",
            "341 PIIND\n",
            "342 PNBHOUSING\n",
            "343 PNCINFRA\n",
            "344 PVR\n",
            "345 PAGEIND\n",
            "346 PATANJALI\n",
            "347 PERSISTENT\n",
            "348 PETRONET\n",
            "349 PFIZER\n",
            "350 PHOENIXLTD\n",
            "351 PIDILITIND\n",
            "352 POLYMED\n",
            "353 POLYCAB\n",
            "354 POLYPLEX\n",
            "355 POONAWALLA\n",
            "356 PFC\n",
            "357 POWERGRID\n",
            "358 PRAJIND\n",
            "359 PRESTIGE\n",
            "360 PRINCEPIPE\n",
            "361 PRSMJOHNSN\n",
            "362 PRIVISCL\n",
            "363 PGHL\n",
            "364 PGHH\n",
            "365 PNB\n",
            "366 QUESS\n",
            "367 RBLBANK\n",
            "368 RECLTD\n",
            "369 RHIM\n",
            "370 RITES\n",
            "371 RADICO\n",
            "372 RVNL\n",
            "373 RAIN\n",
            "374 RAINBOW\n",
            "375 RAJESHEXPO\n",
            "376 RALLIS\n",
            "377 RCF\n",
            "378 RATNAMANI\n",
            "379 RTNINDIA\n",
            "380 RAYMOND\n",
            "381 REDINGTON\n",
            "382 RELAXO\n",
            "383 RELIANCE\n",
            "384 RBA\n",
            "385 ROSSARI\n",
            "386 ROUTE\n",
            "387 SBICARD\n",
            "388 SBILIFE\n",
            "389 SIS\n",
            "390 SJVN\n",
            "391 SKFINDIA\n",
            "392 SRF\n",
            "393 MOTHERSON\n",
            "394 SANOFI\n",
            "395 SAPPHIRE\n",
            "396 SCHAEFFLER\n",
            "397 SHARDACROP\n",
            "398 SFL\n",
            "399 SHILPAMED\n",
            "400 SHOPERSTOP\n",
            "401 SHREECEM\n",
            "402 RENUKA\n",
            "403 SHRIRAMFIN\n",
            "404 SHYAMMETL\n",
            "405 SIEMENS\n",
            "406 SOBHA\n",
            "407 SOLARINDS\n",
            "408 SONACOMS\n",
            "409 SONATSOFTW\n",
            "410 STARHEALTH\n",
            "411 SBIN\n",
            "412 SAIL\n",
            "413 SWSOLAR\n",
            "414 STLTECH\n",
            "415 SUDARSCHEM\n",
            "416 SUMICHEM\n",
            "417 SPARC\n",
            "418 SUNPHARMA\n",
            "419 SUNTV\n",
            "420 SUNDARMFIN\n",
            "421 SUNDRMFAST\n",
            "422 SUNTECK\n",
            "423 SUPRAJIT\n",
            "424 SUPREMEIND\n",
            "425 SUVENPHAR\n",
            "426 SUZLON\n",
            "427 SWANENERGY\n",
            "428 SYMPHONY\n",
            "429 SYNGENE\n",
            "430 TCIEXP\n",
            "431 TCNSBRANDS\n",
            "432 TTKPRESTIG\n",
            "433 TV18BRDCST\n",
            "434 TVSMOTOR\n",
            "435 TANLA\n",
            "436 TATACHEM\n",
            "437 TATACOFFEE\n",
            "438 TATACOMM\n",
            "439 TCS\n",
            "440 TATACONSUM\n",
            "441 TATAELXSI\n",
            "442 TATAINVEST\n",
            "443 TATAMTRDVR\n",
            "444 TATAMOTORS\n",
            "445 TATAPOWER\n",
            "446 TATASTEEL\n",
            "447 TTML\n",
            "448 TEAMLEASE\n",
            "449 TECHM\n",
            "450 TEJASNET\n",
            "451 NIACL\n",
            "452 RAMCOCEM\n",
            "453 THERMAX\n",
            "454 THYROCARE\n",
            "455 TIMKEN\n",
            "456 TITAN\n",
            "457 TORNTPHARM\n",
            "458 TORNTPOWER\n",
            "459 TCI\n",
            "460 TRENT\n",
            "461 TRIDENT\n",
            "462 TRIVENI\n",
            "463 TRITURBINE\n",
            "464 TIINDIA\n",
            "465 UCOBANK\n",
            "466 UFLEX\n",
            "467 UNOMINDA\n",
            "468 UPL\n",
            "469 UTIAMC\n",
            "470 ULTRACEMCO\n",
            "471 UNIONBANK\n",
            "472 UBL\n",
            "473 MCDOWELL-N\n",
            "474 VGUARD\n",
            "475 VMART\n",
            "476 VIPIND\n",
            "477 VAIBHAVGBL\n",
            "478 VTL\n",
            "479 VARROC\n",
            "480 VBL\n",
            "481 MANYAVAR\n",
            "482 VEDL\n",
            "483 VIJAYA\n",
            "484 VINATIORGA\n",
            "485 IDEA\n",
            "486 VOLTAS\n",
            "487 WELCORP\n",
            "488 WELSPUNIND\n",
            "489 WESTLIFE\n",
            "490 WHIRLPOOL\n",
            "491 WIPRO\n",
            "492 WOCKPHARMA\n",
            "493 YESBANK\n",
            "494 ZFCVINDIA\n",
            "495 ZEEL\n",
            "496 ZENSARTECH\n",
            "497 ZOMATO\n",
            "498 ZYDUSLIFE\n",
            "499 ZYDUSWELL\n",
            "500 ECLERX\n",
            "['3MINDIA', 'APLAPOLLO', 'ABBOTINDIA', 'ABSLAMC', 'ALKYLAMINE', 'AMARAJABAT', 'AMBER', 'APOLLOTYRE', 'APTUS', 'ASTRAZEN', 'BEML', 'BAJAJELEC', 'BALKRISIND', 'BATAINDIA', 'BAYERCROP', 'BERGEPAINT', 'BHARATRAS', 'BLUEDART', 'BRITANNIA', 'MAPMYINDIA', 'CESC', 'CAMPUS', 'CEATLTD', 'CDSL', 'CENTURYPLY', 'CHOLAHLDNG', 'CUMMINSIND', 'DEVYANI', 'DIVISLAB', 'DIXON', 'EIHOTEL', 'EPL', 'EMAMILTD', 'NYKAA', 'FACT', 'FINEORG', 'GAIL', 'GICRE', 'GODFRYPHLP', 'GUJALKALI', 'GUJGASLTD', 'GSPL', 'HLEGLAS', 'HIKAL', 'HGS', 'HAL', 'HONAUT', 'HUDCO', 'IFBIND', 'INDIACEM', 'IBULHSGFIN', 'IRFC', 'IGL', 'IPCALAB', 'JBCHEPHARM', 'KNRCON', 'KPITTECH', 'KANSAINER', 'L&TFH', 'LAXMIMACH', 'LUXIND', 'MRF', 'MGL', 'M&MFIN', 'M&M', 'MAHLOG', 'MAZDOCK', 'MEDPLUS', 'METROPOLIS', 'MSUMI', 'MUTHOOTFIN', 'NLCINDIA', 'NATIONALUM', 'NAVINFLUOR', 'NESTLEIND', 'NAM-INDIA', 'NUVOCO', 'OBEROIRLTY', 'OIL', 'OLECTRA', 'PCBL', 'PATANJALI', 'PFIZER', 'POLYPLEX', 'PFC', 'PRESTIGE', 'PRINCEPIPE', 'PGHL', 'RAIN', 'RAINBOW', 'RATNAMANI', 'REDINGTON', 'RBA', 'SIS', 'SRF', 'SHILPAMED', 'SAIL', 'SUMICHEM', 'SUNTV', 'SUNDARMFIN', 'SUPREMEIND', 'TCNSBRANDS', 'TTML', 'TEJASNET', 'THERMAX', 'THYROCARE', 'TORNTPHARM', 'TIINDIA', 'UPL', 'UTIAMC', 'VIPIND', 'VAIBHAVGBL', 'VBL', 'MANYAVAR', 'VIJAYA', 'VOLTAS', 'WHIRLPOOL', 'WOCKPHARMA', 'ZFCVINDIA', 'ZEEL', 'ZENSARTECH', 'ZOMATO', 'ECLERX']\n"
          ]
        }
      ],
      "source": [
        "# list to store article data\n",
        "data = []\n",
        "unavailable_tickers = []\n",
        "companies_len = len(tickers)\n",
        "length = companies_len\n",
        "days_limit = datetime.datetime.now() - datetime.timedelta(days=30) #only 30 days old or newer articles\n",
        "print('Fetching Article data..')\n",
        "for i in range(length):\n",
        "    print(i, tickers[i])\n",
        "    url= '{}/{}'.format(news_url, tickers[i])\n",
        "    headers={'User-Agent': 'Mozilla/5.0 (Windows NT 6.1; WOW64; rv:20.0) Gecko/20100101 Firefox/20.0'}\n",
        "    response = requests.get(url, headers=headers)\n",
        "    html = BeautifulSoup(response.content, 'lxml')\n",
        "    news_links = html.select('#newsarticles > a')\n",
        "    if len(news_links) == 0:\n",
        "        print('No news found for {}'.format(tickers[i]))\n",
        "        unavailable_tickers.append(tickers[i])\n",
        "        continue\n",
        "    new_articles_counter = 0\n",
        "    for link in news_links:\n",
        "        title = link.find('span', class_='h6').text\n",
        "        #separate date and time from datetime object\n",
        "        date_time_obj = datetime.datetime.strptime(link.find('small').text, '%d %b %Y, %I:%M%p')\n",
        "        if (date_time_obj <= days_limit):\n",
        "             continue\n",
        "        art_date = date_time_obj.date().strftime('%Y/%m/%d')\n",
        "        art_time = date_time_obj.time().strftime('%H:%M')\n",
        "        data.append([tickers[i], title, art_date, art_time])\n",
        "        new_articles_counter += 1\n",
        "    if(new_articles_counter==0):\n",
        "        unavailable_tickers.append(tickers[i])  \n",
        "\n",
        "df = pd.DataFrame(data, columns=['Ticker', 'Headline', 'Date', 'Time'])\n",
        "\n",
        "print(unavailable_tickers)"
      ]
    },
    {
      "cell_type": "markdown",
      "source": [
        "## removing unavailable tickers from original df"
      ],
      "metadata": {
        "id": "wpM2_HVr09bp"
      }
    },
    {
      "cell_type": "code",
      "source": [
        "tickers = np.setdiff1d(tickers, unavailable_tickers)\n",
        "tickers_df.drop(tickers_df[tickers_df['Symbol'].isin(unavailable_tickers)].index.values, inplace=True)"
      ],
      "metadata": {
        "colab": {
          "base_uri": "https://localhost:8080/"
        },
        "id": "RJh-1m9e08S3",
        "outputId": "6c51322c-c3cd-4873-a99d-6788578d2159"
      },
      "execution_count": 9,
      "outputs": [
        {
          "output_type": "stream",
          "name": "stderr",
          "text": [
            "/usr/local/lib/python3.8/dist-packages/pandas/core/frame.py:4906: SettingWithCopyWarning: \n",
            "A value is trying to be set on a copy of a slice from a DataFrame\n",
            "\n",
            "See the caveats in the documentation: https://pandas.pydata.org/pandas-docs/stable/user_guide/indexing.html#returning-a-view-versus-a-copy\n",
            "  return super().drop(\n"
          ]
        }
      ]
    },
    {
      "cell_type": "markdown",
      "source": [
        "# Sentiment Analysis"
      ],
      "metadata": {
        "id": "JLbj58pL1p5Z"
      }
    },
    {
      "cell_type": "code",
      "source": [
        "print('Performing Sentiment Analysis')\n",
        "vader = SentimentIntensityAnalyzer()\n",
        "scores = df['Headline'].apply(vader.polarity_scores).tolist()\n",
        "scores_df = pd.DataFrame(scores)\n",
        "new_df = pd.merge(left=df, right=scores_df, on=df.index.values).drop(['key_0'], axis=1)\n",
        "final_df = new_df.groupby('Ticker').mean()"
      ],
      "metadata": {
        "colab": {
          "base_uri": "https://localhost:8080/"
        },
        "id": "T4th1jKK1oR_",
        "outputId": "1f250247-7cdd-4440-8bf3-0ccff549dd77"
      },
      "execution_count": 10,
      "outputs": [
        {
          "output_type": "stream",
          "name": "stdout",
          "text": [
            "Performing Sentiment Analysis\n"
          ]
        }
      ]
    },
    {
      "cell_type": "markdown",
      "source": [
        "# Get Company,Sector,Industry,mCap Data"
      ],
      "metadata": {
        "id": "B9NHakrC10kA"
      }
    },
    {
      "cell_type": "code",
      "source": [
        "tickers[0]"
      ],
      "metadata": {
        "colab": {
          "base_uri": "https://localhost:8080/",
          "height": 36
        },
        "id": "dC9IXx-nBled",
        "outputId": "ff8fbb4d-2b55-4a80-c998-45f53b14324f"
      },
      "execution_count": 11,
      "outputs": [
        {
          "output_type": "execute_result",
          "data": {
            "text/plain": [
              "'360ONE'"
            ],
            "application/vnd.google.colaboratory.intrinsic+json": {
              "type": "string"
            }
          },
          "metadata": {},
          "execution_count": 11
        }
      ]
    },
    {
      "cell_type": "code",
      "source": [
        "len(tickers)"
      ],
      "metadata": {
        "colab": {
          "base_uri": "https://localhost:8080/"
        },
        "id": "HHHY89K8BwwO",
        "outputId": "46348060-7d7f-410a-ff51-46ed28660125"
      },
      "execution_count": 12,
      "outputs": [
        {
          "output_type": "execute_result",
          "data": {
            "text/plain": [
              "378"
            ]
          },
          "metadata": {},
          "execution_count": 12
        }
      ]
    },
    {
      "cell_type": "code",
      "source": [
        "# sector = []\n",
        "# industry = []\n",
        "mCap = []\n",
        "companyName = []\n",
        "new_length = len(tickers)\n",
        "#new_length = 10\n",
        "print('Fetching industry data')\n",
        "for i in range(new_length):\n",
        "    meta = nse_eq(tickers[i])\n",
        "#     print(i, tickers[i])\n",
        "#     try:\n",
        "#         sector.append(meta['industryInfo']['macro'])\n",
        "#     except KeyError:\n",
        "#         print('{} is not available'.format(tickers[i]))\n",
        "#         sector.append(np.nan)\n",
        "#         industry.append(np.nan)\n",
        "#         mCap.append(np.nan)\n",
        "#         companyName.append(np.nan)\n",
        "#         continue\n",
        "#     #pprint('Sector: {}'.format(meta['industryInfo']['macro']))\n",
        "#     try:\n",
        "#         industry.append(meta['industryInfo']['sector'])\n",
        "#     except KeyError:\n",
        "#         print('{} is not available'.format(tickers[i]))\n",
        "#         industry.append(np.nan)\n",
        "#         mCap.append(np.nan)\n",
        "#         companyName.append(np.nan)\n",
        "#         continue\n",
        "    # pprint('Industry: {}'.format(meta['industryInfo']['sector']))\n",
        "    try:\n",
        "        mCap.append(round((meta['priceInfo']['previousClose'] * meta['securityInfo']['issuedSize'])/1000000000, 2))\n",
        "    except KeyError:\n",
        "        print('{} is not available'.format(tickers[i]))\n",
        "        mCap.append(np.nan)\n",
        "        companyName.append(np.nan)\n",
        "        continue\n",
        "    try:\n",
        "        companyName.append(meta['info']['companyName'])\n",
        "    except KeyError:\n",
        "        print('{} is not available'.format(tickers[i]))\n",
        "        companyName.append(np.nan)\n",
        "    \n",
        "    #print('market cap is Rs {}'.format(ticker_mcap))\n",
        "    #print('\\n')\n",
        "\n",
        "final_df['mCap (Billion)'] = mCap\n",
        "final_df['Company Name'] = companyName"
      ],
      "metadata": {
        "colab": {
          "base_uri": "https://localhost:8080/"
        },
        "id": "thQy8Otj1ysS",
        "outputId": "9c550006-cfc4-46ac-f913-54bf05aed8f4"
      },
      "execution_count": 15,
      "outputs": [
        {
          "output_type": "stream",
          "name": "stdout",
          "text": [
            "Fetching industry data\n"
          ]
        }
      ]
    },
    {
      "cell_type": "code",
      "source": [
        "final_df = final_df.reset_index()\n",
        "# final_df = pd.merge(final_df, xc_indices, left_on='Ticker', right_on='Ticker', how='inner')\n",
        "final_df.columns = ['Symbol', 'Negative', 'Neutral', 'Positive', 'Sentiment Score','MCap (Billion)', 'Company Name']"
      ],
      "metadata": {
        "id": "TkphTNl_14yX"
      },
      "execution_count": 16,
      "outputs": []
    },
    {
      "cell_type": "code",
      "source": [
        "final_df = final_df.dropna()\n",
        "final_df = final_df.round(3)\n",
        "\n",
        "final_df.to_csv('sentiment_data.csv')"
      ],
      "metadata": {
        "id": "ulHY-5u3KE_q"
      },
      "execution_count": 17,
      "outputs": []
    },
    {
      "cell_type": "code",
      "source": [
        "# Plotting\n",
        "print('Generating Plots')\n",
        "fig = px.treemap(\n",
        "    final_df, path=[px.Constant('Nifty 500'), 'Symbol'], color='Sentiment Score',\n",
        "    hover_data=['Company Name', 'Negative', 'Neutral', 'Positive', 'Sentiment Score'], color_continuous_scale=['#FF0000', \"#000000\", '#00FF00'], color_continuous_midpoint=0\n",
        "    )\n",
        "#values='MCap (Billion)', \n",
        "fig.data[0].customdata = final_df[['Company Name', 'Negative', 'Neutral', 'Positive', 'Sentiment Score']]\n",
        "fig.data[0].texttemplate = \"%{label}<br>%{customdata[4]}\"\n",
        "fig.update_traces(textposition=\"middle center\")\n",
        "fig.update_layout(margin = dict(t=30, l=10, r=10, b=10), font_size=20)"
      ],
      "metadata": {
        "colab": {
          "base_uri": "https://localhost:8080/",
          "height": 559
        },
        "id": "wBUkPuNIKI0j",
        "outputId": "5285e550-f773-49d8-dabf-ca030fc90587"
      },
      "execution_count": 18,
      "outputs": [
        {
          "output_type": "stream",
          "name": "stdout",
          "text": [
            "Generating Plots\n"
          ]
        },
        {
          "output_type": "display_data",
          "data": {
            "text/html": [
              "<html>\n",
              "<head><meta charset=\"utf-8\" /></head>\n",
              "<body>\n",
              "    <div>            <script src=\"https://cdnjs.cloudflare.com/ajax/libs/mathjax/2.7.5/MathJax.js?config=TeX-AMS-MML_SVG\"></script><script type=\"text/javascript\">if (window.MathJax) {MathJax.Hub.Config({SVG: {font: \"STIX-Web\"}});}</script>                <script type=\"text/javascript\">window.PlotlyConfig = {MathJaxConfig: 'local'};</script>\n",
              "        <script src=\"https://cdn.plot.ly/plotly-2.8.3.min.js\"></script>                <div id=\"a7ebd877-56c2-473f-b59b-8c0194a8e9b4\" class=\"plotly-graph-div\" style=\"height:525px; width:100%;\"></div>            <script type=\"text/javascript\">                                    window.PLOTLYENV=window.PLOTLYENV || {};                                    if (document.getElementById(\"a7ebd877-56c2-473f-b59b-8c0194a8e9b4\")) {                    Plotly.newPlot(                        \"a7ebd877-56c2-473f-b59b-8c0194a8e9b4\",                        [{\"branchvalues\":\"total\",\"customdata\":[[\"360 ONE WAM LIMITED\",0.0,1.0,0.0,0.0],[\"Aarti Drugs Limited\",0.0,1.0,0.0,0.0],[\"Aavas Financiers Limited\",0.0,1.0,0.0,0.0],[\"ABB India Limited\",0.0,1.0,0.0,0.0],[\"Aditya Birla Capital Limited\",0.0,1.0,0.0,0.0],[\"Aditya Birla Fashion and Retail Limited\",0.115,0.885,0.0,-0.212],[\"ACC Limited\",0.0,0.85,0.15,0.232],[\"Adani Enterprises Limited\",0.008,0.979,0.013,0.017],[\"Adani Green Energy Limited\",0.0,0.754,0.246,0.347],[\"Adani Ports and Special Economic Zone Limited\",0.0,0.923,0.077,0.134],[\"Adani Transmission Limited\",0.0,1.0,0.0,0.0],[\"Aegis Logistics Limited\",0.165,0.73,0.105,-0.092],[\"Aether Industries Limited\",0.0,0.97,0.03,0.049],[\"Affle (India) Limited\",0.0,1.0,0.0,0.0],[\"AIA Engineering Limited\",0.0,1.0,0.0,0.0],[\"Ajanta Pharma Limited\",0.0,1.0,0.0,0.0],[\"Alkem Laboratories Limited\",0.0,1.0,0.0,0.0],[\"Alok Industries Limited\",0.0,0.886,0.114,0.127],[\"Ambuja Cements Limited\",0.06,0.793,0.147,0.104],[\"Angel One Limited\",0.0,0.925,0.075,0.137],[\"Anupam Rasayan India Limited\",0.0,1.0,0.0,0.0],[\"Alembic Pharmaceuticals Limited\",0.0,0.93,0.07,0.119],[\"Apollo Hospitals Enterprise Limited\",0.2,0.609,0.191,-0.026],[\"Asahi India Glass Limited\",0.0,1.0,0.0,0.0],[\"Ashok Leyland Limited\",0.04,0.825,0.136,0.147],[\"Asian Paints Limited\",0.0,0.938,0.062,0.115],[\"Aster DM Healthcare Limited\",0.0,0.896,0.104,0.199],[\"Astral Limited\",0.0,0.732,0.268,0.296],[\"Adani Total Gas Limited\",0.0,1.0,0.0,0.0],[\"Atul Limited\",0.0,0.934,0.066,0.11],[\"AU Small Finance Bank Limited\",0.0,0.917,0.083,0.164],[\"Aurobindo Pharma Limited\",0.0,0.96,0.04,0.079],[\"Avanti Feeds Limited\",0.223,0.777,0.0,-0.318],[\"Adani Wilmar Limited\",0.0,0.604,0.396,0.71],[\"Axis Bank Limited\",0.0,0.914,0.086,0.181],[\"Bajaj Auto Limited\",0.0,1.0,0.0,0.0],[\"Bajaj Finserv Limited\",0.096,0.792,0.112,-0.047],[\"Bajaj Holdings & Investment Limited\",0.0,1.0,0.0,0.0],[\"Bajaj Finance Limited\",0.0,0.888,0.112,0.191],[\"Balaji Amines Limited\",0.0,1.0,0.0,0.0],[\"Balrampur Chini Mills Limited\",0.0,0.473,0.527,0.832],[\"Bandhan Bank Limited\",0.0,0.918,0.082,0.137],[\"Bank of Baroda\",0.0,0.852,0.148,0.236],[\"Bank of India\",0.036,0.925,0.039,0.007],[\"BASF India Limited\",0.036,0.893,0.071,0.045],[\"Bombay Burmah Trading Corporation Limited\",0.0,1.0,0.0,0.0],[\"Brightcom Group Limited\",0.0,1.0,0.0,0.0],[\"Bharat Dynamics Limited\",0.0,0.741,0.259,0.273],[\"Bharat Electronics Limited\",0.0,1.0,0.0,0.0],[\"Bharat Forge Limited\",0.0,0.789,0.211,0.494],[\"Bharti Airtel Limited\",0.047,0.953,0.0,-0.043],[\"Bharat Heavy Electricals Limited\",0.0,0.88,0.12,0.113],[\"Biocon Limited\",0.0,0.803,0.197,0.267],[\"Birla Corporation Limited\",0.0,1.0,0.0,0.0],[\"Blue Star Limited\",0.082,0.774,0.144,0.191],[\"BOROSIL RENEWABLES LIMITED\",0.147,0.783,0.07,-0.115],[\"Bosch Limited\",0.0,1.0,0.0,0.0],[\"Bharat Petroleum Corporation Limited\",0.1,0.804,0.096,-0.013],[\"Brigade Enterprises Limited\",0.0,1.0,0.0,0.0],[\"BSE Limited\",0.0,0.882,0.118,0.238],[\"BIRLASOFT LIMITED\",0.0,0.824,0.176,0.216],[\"Computer Age Management Services Limited\",0.0,0.941,0.059,0.127],[\"Canara Bank\",0.0,0.883,0.117,0.164],[\"Can Fin Homes Limited\",0.0,1.0,0.0,0.0],[\"Caplin Point Laboratories Limited\",0.2,0.609,0.191,-0.026],[\"Carborundum Universal Limited\",0.0,1.0,0.0,0.0],[\"Castrol India Limited\",0.112,0.816,0.072,-0.07],[\"CCL Products (India) Limited\",0.034,0.955,0.011,-0.035],[\"Central Bank of India\",0.0,0.928,0.072,0.14],[\"Century Textiles & Industries Limited\",0.0,1.0,0.0,0.0],[\"Cera Sanitaryware Limited\",0.0,1.0,0.0,0.0],[\"Capri Global Capital Limited\",0.0,1.0,0.0,0.0],[\"CG Power and Industrial Solutions Limited\",0.081,0.694,0.225,0.166],[\"Chalet Hotels Limited\",0.0,1.0,0.0,0.0],[\"Chambal Fertilizers & Chemicals Limited\",0.0,1.0,0.0,0.0],[\"Chemplast Sanmar Limited\",0.0,1.0,0.0,0.0],[\"Cholamandalam Investment and Finance Company Limited\",0.0,1.0,0.0,0.0],[\"Cipla Limited\",0.0,0.956,0.044,0.068],[\"Clean Science and Technology Limited\",0.0,0.722,0.278,0.402],[\"Coal India Limited\",0.0,0.955,0.045,0.08],[\"Cochin Shipyard Limited\",0.0,1.0,0.0,0.0],[\"Coforge Limited\",0.0,0.962,0.038,0.063],[\"Colgate Palmolive (India) Limited\",0.0,0.853,0.146,0.22],[\"Container Corporation of India Limited\",0.0,1.0,0.0,0.0],[\"Coromandel International Limited\",0.0,1.0,0.0,0.0],[\"CREDITACCESS GRAMEEN LIMITED\",0.0,1.0,0.0,0.0],[\"CRISIL Limited\",0.0,1.0,0.0,0.0],[\"Crompton Greaves Consumer Electricals Limited\",0.184,0.64,0.176,-0.026],[\"CSB Bank Limited\",0.0,1.0,0.0,0.0],[\"City Union Bank Limited\",0.0,1.0,0.0,0.0],[\"Cyient Limited\",0.0,0.956,0.044,0.073],[\"Dabur India Limited\",0.045,0.9,0.055,0.043],[\"Dalmia Bharat Limited\",0.0,1.0,0.0,0.0],[\"Dilip Buildcon Limited\",0.0,1.0,0.0,0.0],[\"DCM Shriram Limited\",0.036,0.928,0.035,-0.004],[\"Deepak Fertilizers And Petrochemicals Corporation Limited\",0.0,1.0,0.0,0.0],[\"Deepak Nitrite Limited\",0.0,1.0,0.0,0.0],[\"Delhivery Limited\",0.0,0.906,0.094,0.105],[\"Delta Corp Limited\",0.0,0.919,0.081,0.147],[\"Dhani Services Limited\",0.0,1.0,0.0,0.0],[\"DLF Limited\",0.04,0.924,0.036,-0.013],[\"Avenue Supermarts Limited\",0.0,0.951,0.049,0.088],[\"Dr. Reddy's Laboratories Limited\",0.045,0.955,0.0,-0.11],[\"Easy Trip Planners Limited\",0.0,0.852,0.148,0.2],[\"Edelweiss Financial Services Limited\",0.0,1.0,0.0,0.0],[\"Eicher Motors Limited\",0.0,0.944,0.056,0.095],[\"EID Parry India Limited\",0.0,1.0,0.0,0.0],[\"Elgi Equipments Limited\",0.0,0.928,0.072,0.099],[\"Endurance Technologies Limited\",0.0,0.658,0.342,0.382],[\"Engineers India Limited\",0.0,1.0,0.0,0.0],[\"Equitas Small Finance Bank Limited\",0.073,0.927,0.0,-0.159],[\"Escorts Kubota Limited\",0.0,0.936,0.064,0.127],[\"Exide Industries Limited\",0.0,1.0,0.0,0.0],[\"FDC Limited\",0.0,1.0,0.0,0.0],[\"The Federal Bank  Limited\",0.038,0.906,0.056,0.019],[\"Finolex Cables Limited\",0.089,0.911,0.0,-0.099],[\"Finolex Industries Limited\",0.0,1.0,0.0,0.0],[\"Gujarat Fluorochemicals Limited\",0.0,1.0,0.0,0.0],[\"Fortis Healthcare Limited\",0.0,1.0,0.0,0.0],[\"Firstsource Solutions Limited\",0.0,0.648,0.352,0.663],[\"Gujarat Ambuja Exports Limited\",0.0,1.0,0.0,0.0],[\"Galaxy Surfactants Limited\",0.11,0.786,0.105,-0.013],[\"Garware Technical Fibres Limited\",0.0,0.698,0.302,0.382],[\"The Great Eastern Shipping Company Limited\",0.05,0.661,0.289,0.596],[\"Gland Pharma Limited\",0.0,0.904,0.095,0.183],[\"GlaxoSmithKline Pharmaceuticals Limited\",0.0,1.0,0.0,0.0],[\"Glenmark Pharmaceuticals Limited\",0.0,0.964,0.036,0.062],[\"GMM Pfaudler Limited\",0.0,0.886,0.114,0.127],[\"GMR Airports Infrastructure Limited\",0.0,1.0,0.0,0.0],[\"Gujarat Narmada Valley Fertilizers and Chemicals Limited\",0.0,1.0,0.0,0.0],[\"Go Fashion (India) Limited\",0.0,1.0,0.0,0.0],[\"Godrej Agrovet Limited\",0.0,1.0,0.0,0.0],[\"Godrej Consumer Products Limited\",0.0,0.905,0.096,0.191],[\"Godrej Industries Limited\",0.0,1.0,0.0,0.0],[\"Godrej Properties Limited\",0.0,1.0,0.0,0.0],[\"Gujarat Pipavav Port Limited\",0.0,1.0,0.0,0.0],[\"Granules India Limited\",0.0,0.956,0.044,0.095],[\"Graphite India Limited\",0.219,0.571,0.21,-0.026],[\"Grasim Industries Limited\",0.0,1.0,0.0,0.0],[\"Greenpanel Industries Limited\",0.0,1.0,0.0,0.0],[\"Grindwell Norton Limited\",0.0,1.0,0.0,0.0],[\"G R Infraprojects Limited\",0.0,1.0,0.0,0.0],[\"Gujarat State Fertilizers & Chemicals Limited\",0.0,1.0,0.0,0.0],[\"Happiest Minds Technologies Limited\",0.0,0.506,0.494,0.714],[\"Hatsun Agro Product Limited\",0.0,0.951,0.049,0.088],[\"Havells India Limited\",0.0,0.97,0.03,0.055],[\"HCL Technologies Limited\",0.017,0.928,0.055,0.061],[\"Housing Development Finance Corporation Limited\",0.0,0.951,0.049,0.076],[\"HDFC Asset Management Company Limited\",0.0,0.625,0.375,0.66],[\"HDFC Bank Limited\",0.0,0.965,0.035,0.063],[\"HDFC Life Insurance Company Limited\",0.0,0.906,0.094,0.176],[\"HEG Limited\",0.0,1.0,0.0,0.0],[\"Hero MotoCorp Limited\",0.0,0.68,0.32,0.557],[\"HFCL Limited\",0.0,0.787,0.213,0.226],[\"Hindalco Industries Limited\",0.0,1.0,0.0,0.0],[\"Hindustan Copper Limited\",0.0,1.0,0.0,0.0],[\"Hindustan Petroleum Corporation Limited\",0.1,0.675,0.225,0.124],[\"Hindustan Unilever Limited\",0.0,1.0,0.0,0.0],[\"Hindustan Zinc Limited\",0.0,0.965,0.035,0.063],[\"Home First Finance Company India Limited\",0.0,1.0,0.0,0.0],[\"Indiabulls Real Estate Limited\",0.0,1.0,0.0,0.0],[\"ICICI Bank Limited\",0.025,0.869,0.106,0.119],[\"ICICI Lombard General Insurance Company Limited\",0.0,0.974,0.026,0.055],[\"ICICI Prudential Life Insurance Company Limited\",0.028,0.912,0.06,0.069],[\"IDBI Bank Limited\",0.0,0.96,0.04,0.082],[\"Vodafone Idea Limited\",0.0,1.0,0.0,0.0],[\"IDFC Limited\",0.0,1.0,0.0,0.0],[\"IDFC First Bank Limited\",0.0,0.948,0.052,0.11],[\"Indian Energy Exchange Limited\",0.0,0.676,0.324,0.382],[\"IIFL Finance Limited\",0.0,0.951,0.049,0.1],[\"The Indian Hotels Company Limited\",0.023,0.959,0.019,-0.024],[\"Indiamart Intermesh Limited\",0.0,0.939,0.061,0.11],[\"Indian Bank\",0.0,1.0,0.0,0.0],[\"InterGlobe Aviation Limited\",0.019,0.917,0.064,0.053],[\"Indigo Paints Limited\",0.239,0.761,0.0,-0.296],[\"Indoco Remedies Limited\",0.0,0.941,0.059,0.077],[\"IndusInd Bank Limited\",0.027,0.892,0.081,0.1],[\"Indus Towers Limited\",0.0,1.0,0.0,0.0],[\"Infibeam Avenues Limited\",0.0,1.0,0.0,0.0],[\"Infosys Limited\",0.0,0.906,0.094,0.147],[\"INOX Leisure Limited\",0.0,1.0,0.0,0.0],[\"Intellect Design Arena Limited\",0.0,0.686,0.314,0.522],[\"Indian Overseas Bank\",0.2,0.609,0.191,-0.026],[\"Indian Oil Corporation Limited\",0.051,0.949,0.0,-0.08],[\"IRB Infrastructure Developers Limited\",0.068,0.932,0.0,-0.159],[\"Indian Railway Catering And Tourism Corporation Limited\",0.0,1.0,0.0,0.0],[\"ICICI Securities Limited\",0.0,0.624,0.376,0.296],[\"ITC Limited\",0.0,1.0,0.0,0.0],[\"ITI Limited\",0.121,0.667,0.212,0.1],[\"Jamna Auto Industries Limited\",0.0,1.0,0.0,0.0],[\"JBM Auto Limited\",0.0,1.0,0.0,0.0],[\"Jindal Steel & Power Limited\",0.0,1.0,0.0,0.0],[\"JK Cement Limited\",0.11,0.682,0.209,0.181],[\"JK Lakshmi Cement Limited\",0.0,0.655,0.345,0.388],[\"JK Paper Limited\",0.0,0.603,0.397,0.388],[\"JM Financial Limited\",0.0,1.0,0.0,0.0],[\"Jindal Stainless Limited\",0.0,0.878,0.122,0.22],[\"JSW Energy Limited\",0.0,0.661,0.339,0.314],[\"JSW Steel Limited\",0.025,0.893,0.083,0.073],[\"Jubilant Foodworks Limited\",0.0,0.68,0.32,0.612],[\"Jubilant Ingrevia Limited\",0.0,0.556,0.444,0.612],[\"Jubilant Pharmova Limited\",0.0,0.377,0.623,0.765],[\"Just Dial Limited\",0.0,0.97,0.03,0.063],[\"Jyothy Labs Limited\",0.223,0.777,0.0,-0.318],[\"Kajaria Ceramics Limited\",0.0,1.0,0.0,0.0],[\"Kalpataru Power Transmission Limited\",0.0,0.826,0.174,0.226],[\"Kalyan Jewellers India Limited\",0.0,0.912,0.088,0.186],[\"Karur Vysya Bank Limited\",0.0,0.955,0.045,0.064],[\"KEC International Limited\",0.0,1.0,0.0,0.0],[\"KEI Industries Limited\",0.0,1.0,0.0,0.0],[\"Krishna Institute of Medical Sciences Limited\",0.0,0.939,0.061,0.147],[\"Kotak Mahindra Bank Limited\",0.026,0.952,0.022,-0.004],[\"K.P.R. Mill Limited\",0.0,1.0,0.0,0.0],[\"KRBL Limited\",0.0,1.0,0.0,0.0],[\"Dr. Lal Path Labs Ltd.\",0.0,1.0,0.0,0.0],[\"Latent View Analytics Limited\",0.0,1.0,0.0,0.0],[\"Laurus Labs Limited\",0.077,0.923,0.0,-0.113],[\"Lemon Tree Hotels Limited\",0.0,1.0,0.0,0.0],[\"LIC Housing Finance Limited\",0.156,0.68,0.164,0.046],[\"Life Insurance Corporation Of India\",0.0,1.0,0.0,0.0],[\"Linde India Limited\",0.0,1.0,0.0,0.0],[\"Macrotech Developers Limited\",0.0,1.0,0.0,0.0],[\"Larsen & Toubro Limited\",0.029,0.873,0.098,0.103],[\"LTIMindtree Limited\",0.0,1.0,0.0,0.0],[\"L&T Technology Services Limited\",0.0,0.927,0.073,0.14],[\"Lupin Limited\",0.049,0.841,0.11,0.094],[\"Laxmi Organic Industries Limited\",0.0,1.0,0.0,0.0],[\"Bank of Maharashtra\",0.0,0.925,0.075,0.135],[\"Mahindra CIE Automotive Limited\",0.2,0.609,0.191,-0.026],[\"Mahindra Lifespace Developers Limited\",0.0,0.832,0.168,0.297],[\"Manappuram Finance Limited\",0.0,1.0,0.0,0.0],[\"Marico Limited\",0.0,1.0,0.0,0.0],[\"Maruti Suzuki India Limited\",0.0,0.92,0.08,0.119],[\"Mastek Limited\",0.0,0.912,0.088,0.115],[\"Max Healthcare Institute Limited\",0.0,1.0,0.0,0.0],[\"United Spirits Limited\",0.187,0.407,0.407,0.402],[\"Multi Commodity Exchange of India Limited\",0.0,1.0,0.0,0.0],[\"Metro Brands Limited\",0.0,0.973,0.027,0.049],[\"Max Financial Services Limited\",0.122,0.878,0.0,-0.3],[\"Mahindra Holidays & Resorts India Limited\",0.0,0.729,0.271,0.382],[\"MMTC Limited\",0.306,0.694,0.0,-0.296],[\"MOIL Limited\",0.0,1.0,0.0,0.0],[\"Samvardhana Motherson International Limited\",0.0,1.0,0.0,0.0],[\"Motilal Oswal Financial Services Limited\",0.0,1.0,0.0,0.0],[\"MphasiS Limited\",0.0,0.934,0.066,0.11],[\"Mangalore Refinery and Petrochemicals Limited\",0.204,0.796,0.0,-0.318],[\"Mtar Technologies Limited\",0.0,1.0,0.0,0.0],[\"Natco Pharma Limited\",0.0,1.0,0.0,0.0],[\"Info Edge (India) Limited\",0.0,1.0,0.0,0.0],[\"Nazara Technologies Limited\",0.0,1.0,0.0,0.0],[\"NBCC (India) Limited\",0.0,0.813,0.187,0.318],[\"NCC Limited\",0.0,0.956,0.044,0.057],[\"Network18 Media & Investments Limited\",0.0,1.0,0.0,0.0],[\"Narayana Hrudayalaya Ltd.\",0.0,1.0,0.0,0.0],[\"NHPC Limited\",0.0,1.0,0.0,0.0],[\"The New India Assurance Company Limited\",0.0,0.745,0.255,0.34],[\"NOCIL Limited\",0.0,1.0,0.0,0.0],[\"NTPC Limited\",0.0,0.981,0.019,0.046],[\"Oracle Financial Services Software Limited\",0.0,0.948,0.052,0.11],[\"Oil & Natural Gas Corporation Limited\",0.043,0.957,0.0,-0.043],[\"Orient Electric Limited\",0.0,1.0,0.0,0.0],[\"Page Industries Limited\",0.0,1.0,0.0,0.0],[\"One 97 Communications Limited\",0.0,0.936,0.064,0.127],[\"Persistent Systems Limited\",0.0,0.907,0.093,0.156],[\"Petronet LNG Limited\",0.0,1.0,0.0,0.0],[\"Procter & Gamble Hygiene and Health Care Limited\",0.0,0.726,0.274,0.494],[\"The Phoenix Mills Limited\",0.0,1.0,0.0,0.0],[\"Pidilite Industries Limited\",0.0,0.94,0.06,0.074],[\"PI Industries Limited\",0.0,1.0,0.0,0.0],[\"Punjab National Bank\",0.0,1.0,0.0,0.0],[\"PNB Housing Finance Limited\",0.0,1.0,0.0,0.0],[\"PNC Infratech Limited\",0.0,0.829,0.171,0.191],[\"PB Fintech Limited\",0.0,1.0,0.0,0.0],[\"Polycab India Limited\",0.0,0.97,0.03,0.055],[\"Poly Medicure Limited\",0.0,1.0,0.0,0.0],[\"Poonawalla Fincorp Limited\",0.0,0.944,0.056,0.095],[\"Power Grid Corporation of India Limited\",0.0,1.0,0.0,0.0],[\"Hitachi Energy India Limited\",0.183,0.476,0.341,0.25],[\"Praj Industries Limited\",0.0,1.0,0.0,0.0],[\"Privi Speciality Chemicals Limited\",0.0,0.834,0.166,0.271],[\"Prism Johnson Limited\",0.0,1.0,0.0,0.0],[\"PVR Limited\",0.0,1.0,0.0,0.0],[\"Quess Corp Limited\",0.0,1.0,0.0,0.0],[\"Radico Khaitan Limited\",0.0,1.0,0.0,0.0],[\"Rajesh Exports Limited\",0.0,0.888,0.112,0.247],[\"Rallis India Limited\",0.044,0.861,0.095,0.083],[\"The Ramco Cements Limited\",0.0,0.834,0.166,0.271],[\"Raymond Limited\",0.124,0.876,0.0,-0.159],[\"RBL Bank Limited\",0.042,0.922,0.035,-0.026],[\"Rashtriya Chemicals and Fertilizers Limited\",0.0,1.0,0.0,0.0],[\"REC Limited\",0.0,1.0,0.0,0.0],[\"Relaxo Footwears Limited\",0.0,0.928,0.072,0.099],[\"Reliance Industries Limited\",0.023,0.854,0.123,0.177],[\"Shree Renuka Sugars Limited\",0.0,1.0,0.0,0.0],[\"RHI MAGNESITA INDIA LIMITED\",0.0,1.0,0.0,0.0],[\"RITES Limited\",0.0,1.0,0.0,0.0],[\"Rossari Biotech Limited\",0.0,1.0,0.0,0.0],[\"ROUTE MOBILE LIMITED\",0.0,0.751,0.249,0.368],[\"RattanIndia Enterprises Limited\",0.0,1.0,0.0,0.0],[\"Rail Vikas Nigam Limited\",0.03,0.97,0.0,-0.064],[\"Sanofi India Limited\",0.11,0.786,0.105,-0.013],[\"Sapphire Foods India Limited\",0.0,1.0,0.0,0.0],[\"SBI Cards and Payment Services Limited\",0.0,0.806,0.194,0.411],[\"SBI Life Insurance Company Limited\",0.0,0.939,0.061,0.11],[\"State Bank of India\",0.0,0.94,0.06,0.092],[\"Schaeffler India Limited\",0.0,1.0,0.0,0.0],[\"Sheela Foam Limited\",0.0,1.0,0.0,0.0],[\"Sharda Cropchem Limited\",0.0,1.0,0.0,0.0],[\"Shoppers Stop Limited\",0.296,0.594,0.11,-0.059],[\"SHREE CEMENT LIMITED\",0.0,1.0,0.0,0.0],[\"Shriram Finance Limited\",0.0,0.968,0.032,0.045],[\"Shyam Metalics and Energy Limited\",0.0,0.769,0.231,0.273],[\"Siemens Limited\",0.0,1.0,0.0,0.0],[\"SJVN Limited\",0.0,0.946,0.054,0.134],[\"SKF India Limited\",0.0,0.858,0.142,0.25],[\"Sobha Limited\",0.0,0.923,0.077,0.113],[\"Solar Industries India Limited\",0.0,1.0,0.0,0.0],[\"Sona BLW Precision Forgings Limited\",0.0,0.925,0.075,0.165],[\"Sonata Software Limited\",0.0,1.0,0.0,0.0],[\"Sun Pharma Advanced Research Company Limited\",0.0,0.778,0.222,0.25],[\"Star Health and Allied Insurance Company Limited\",0.102,0.898,0.0,-0.238],[\"Sterlite Technologies Limited\",0.0,1.0,0.0,0.0],[\"Sudarshan Chemical Industries Limited\",0.0,1.0,0.0,0.0],[\"Sundram Fasteners Limited\",0.0,0.782,0.218,0.266],[\"Sun Pharmaceutical Industries Limited\",0.0,1.0,0.0,0.0],[\"Sunteck Realty Limited\",0.0,1.0,0.0,0.0],[\"Suprajit Engineering Limited\",0.0,1.0,0.0,0.0],[\"Suven Pharmaceuticals Limited\",0.0,0.949,0.051,0.067],[\"Suzlon Energy Limited\",0.0,0.656,0.344,0.273],[\"Swan Energy Limited\",0.0,0.741,0.259,0.273],[\"Sterling and Wilson Renewable Energy Limited\",0.0,0.948,0.052,0.068],[\"Symphony Limited\",0.242,0.526,0.232,-0.026],[\"Syngene International Limited\",0.0,1.0,0.0,0.0],[\"Tanla Platforms Limited\",0.0,1.0,0.0,0.0],[\"Tata Chemicals Limited\",0.0,1.0,0.0,0.0],[\"Tata Coffee Limited\",0.0,0.919,0.081,0.147],[\"Tata Communications Limited\",0.0,0.756,0.244,0.44],[\"TATA CONSUMER PRODUCTS LIMITED\",0.08,0.844,0.076,-0.01],[\"Tata Elxsi Limited\",0.11,0.786,0.105,-0.013],[\"Tata Investment Corporation Limited\",0.04,0.877,0.083,0.083],[\"Tata Motors Limited\",0.014,0.986,0.0,-0.013],[\"Tata Motors Limited\",0.014,0.986,0.0,-0.013],[\"Tata Power Company Limited\",0.023,0.907,0.07,0.081],[\"TATA Steel Limited\",0.024,0.919,0.057,0.04],[\"Transport Corporation of India Limited\",0.184,0.64,0.176,-0.026],[\"TCI Express Limited\",0.11,0.786,0.105,-0.013],[\"Tata Consultancy Services Limited\",0.0,0.849,0.151,0.256],[\"Teamlease Services Limited\",0.0,1.0,0.0,0.0],[\"Tech Mahindra Limited\",0.0,1.0,0.0,0.0],[\"Timken India Limited\",0.219,0.571,0.21,-0.026],[\"Titan Company Limited\",0.0,0.778,0.222,0.242],[\"Torrent Power Limited\",0.223,0.777,0.0,-0.318],[\"Trent Limited\",0.121,0.676,0.203,0.111],[\"Trident Limited\",0.0,1.0,0.0,0.0],[\"Triveni Turbine Limited\",0.0,1.0,0.0,0.0],[\"Triveni Engineering & Industries Limited\",0.0,1.0,0.0,0.0],[\"TTK Prestige Limited\",0.0,0.912,0.088,0.089],[\"TV18 Broadcast Limited\",0.0,0.951,0.049,0.088],[\"TVS Motor Company Limited\",0.0,1.0,0.0,0.0],[\"United Breweries Limited\",0.133,0.474,0.393,0.407],[\"UCO Bank\",0.0,0.935,0.065,0.099],[\"UFLEX Limited\",0.247,0.753,0.0,-0.318],[\"UltraTech Cement Limited\",0.0,0.959,0.041,0.073],[\"Union Bank of India\",0.0,0.92,0.08,0.151],[\"UNO Minda Limited\",0.0,1.0,0.0,0.0],[\"Varroc Engineering Limited\",0.0,1.0,0.0,0.0],[\"Vedanta Limited\",0.0,0.741,0.259,0.273],[\"V-Guard Industries Limited\",0.0,0.92,0.08,0.099],[\"Vinati Organics Limited\",0.045,0.955,0.0,-0.049],[\"V-Mart Retail Limited\",0.0,1.0,0.0,0.0],[\"Vardhman Textiles Limited\",0.112,0.889,0.0,-0.159],[\"Welspun Corp Limited\",0.0,1.0,0.0,0.0],[\"Welspun India Limited\",0.0,0.916,0.084,0.134],[\"WESTLIFE FOODWORLD LIMITED\",0.0,1.0,0.0,0.0],[\"Wipro Limited\",0.0,0.962,0.038,0.063],[\"Yes Bank Limited\",0.0,0.613,0.387,0.433],[\"Zydus Lifesciences Limited\",0.031,0.795,0.174,0.269],[\"Zydus Wellness Limited\",0.092,0.518,0.389,0.431]],\"domain\":{\"x\":[0.0,1.0],\"y\":[0.0,1.0]},\"hovertemplate\":\"labels=%{label}<br>count=%{value}<br>parent=%{parent}<br>id=%{id}<br>Company Name=%{customdata[0]}<br>Negative=%{customdata[1]}<br>Neutral=%{customdata[2]}<br>Positive=%{customdata[3]}<br>Sentiment Score=%{color}<extra></extra>\",\"ids\":[\"Nifty 500/360ONE\",\"Nifty 500/AARTIDRUGS\",\"Nifty 500/AAVAS\",\"Nifty 500/ABB\",\"Nifty 500/ABCAPITAL\",\"Nifty 500/ABFRL\",\"Nifty 500/ACC\",\"Nifty 500/ADANIENT\",\"Nifty 500/ADANIGREEN\",\"Nifty 500/ADANIPORTS\",\"Nifty 500/ADANITRANS\",\"Nifty 500/AEGISCHEM\",\"Nifty 500/AETHER\",\"Nifty 500/AFFLE\",\"Nifty 500/AIAENG\",\"Nifty 500/AJANTPHARM\",\"Nifty 500/ALKEM\",\"Nifty 500/ALOKINDS\",\"Nifty 500/AMBUJACEM\",\"Nifty 500/ANGELONE\",\"Nifty 500/ANURAS\",\"Nifty 500/APLLTD\",\"Nifty 500/APOLLOHOSP\",\"Nifty 500/ASAHIINDIA\",\"Nifty 500/ASHOKLEY\",\"Nifty 500/ASIANPAINT\",\"Nifty 500/ASTERDM\",\"Nifty 500/ASTRAL\",\"Nifty 500/ATGL\",\"Nifty 500/ATUL\",\"Nifty 500/AUBANK\",\"Nifty 500/AUROPHARMA\",\"Nifty 500/AVANTIFEED\",\"Nifty 500/AWL\",\"Nifty 500/AXISBANK\",\"Nifty 500/BAJAJ-AUTO\",\"Nifty 500/BAJAJFINSV\",\"Nifty 500/BAJAJHLDNG\",\"Nifty 500/BAJFINANCE\",\"Nifty 500/BALAMINES\",\"Nifty 500/BALRAMCHIN\",\"Nifty 500/BANDHANBNK\",\"Nifty 500/BANKBARODA\",\"Nifty 500/BANKINDIA\",\"Nifty 500/BASF\",\"Nifty 500/BBTC\",\"Nifty 500/BCG\",\"Nifty 500/BDL\",\"Nifty 500/BEL\",\"Nifty 500/BHARATFORG\",\"Nifty 500/BHARTIARTL\",\"Nifty 500/BHEL\",\"Nifty 500/BIOCON\",\"Nifty 500/BIRLACORPN\",\"Nifty 500/BLUESTARCO\",\"Nifty 500/BORORENEW\",\"Nifty 500/BOSCHLTD\",\"Nifty 500/BPCL\",\"Nifty 500/BRIGADE\",\"Nifty 500/BSE\",\"Nifty 500/BSOFT\",\"Nifty 500/CAMS\",\"Nifty 500/CANBK\",\"Nifty 500/CANFINHOME\",\"Nifty 500/CAPLIPOINT\",\"Nifty 500/CARBORUNIV\",\"Nifty 500/CASTROLIND\",\"Nifty 500/CCL\",\"Nifty 500/CENTRALBK\",\"Nifty 500/CENTURYTEX\",\"Nifty 500/CERA\",\"Nifty 500/CGCL\",\"Nifty 500/CGPOWER\",\"Nifty 500/CHALET\",\"Nifty 500/CHAMBLFERT\",\"Nifty 500/CHEMPLASTS\",\"Nifty 500/CHOLAFIN\",\"Nifty 500/CIPLA\",\"Nifty 500/CLEAN\",\"Nifty 500/COALINDIA\",\"Nifty 500/COCHINSHIP\",\"Nifty 500/COFORGE\",\"Nifty 500/COLPAL\",\"Nifty 500/CONCOR\",\"Nifty 500/COROMANDEL\",\"Nifty 500/CREDITACC\",\"Nifty 500/CRISIL\",\"Nifty 500/CROMPTON\",\"Nifty 500/CSBBANK\",\"Nifty 500/CUB\",\"Nifty 500/CYIENT\",\"Nifty 500/DABUR\",\"Nifty 500/DALBHARAT\",\"Nifty 500/DBL\",\"Nifty 500/DCMSHRIRAM\",\"Nifty 500/DEEPAKFERT\",\"Nifty 500/DEEPAKNTR\",\"Nifty 500/DELHIVERY\",\"Nifty 500/DELTACORP\",\"Nifty 500/DHANI\",\"Nifty 500/DLF\",\"Nifty 500/DMART\",\"Nifty 500/DRREDDY\",\"Nifty 500/EASEMYTRIP\",\"Nifty 500/EDELWEISS\",\"Nifty 500/EICHERMOT\",\"Nifty 500/EIDPARRY\",\"Nifty 500/ELGIEQUIP\",\"Nifty 500/ENDURANCE\",\"Nifty 500/ENGINERSIN\",\"Nifty 500/EQUITASBNK\",\"Nifty 500/ESCORTS\",\"Nifty 500/EXIDEIND\",\"Nifty 500/FDC\",\"Nifty 500/FEDERALBNK\",\"Nifty 500/FINCABLES\",\"Nifty 500/FINPIPE\",\"Nifty 500/FLUOROCHEM\",\"Nifty 500/FORTIS\",\"Nifty 500/FSL\",\"Nifty 500/GAEL\",\"Nifty 500/GALAXYSURF\",\"Nifty 500/GARFIBRES\",\"Nifty 500/GESHIP\",\"Nifty 500/GLAND\",\"Nifty 500/GLAXO\",\"Nifty 500/GLENMARK\",\"Nifty 500/GMMPFAUDLR\",\"Nifty 500/GMRINFRA\",\"Nifty 500/GNFC\",\"Nifty 500/GOCOLORS\",\"Nifty 500/GODREJAGRO\",\"Nifty 500/GODREJCP\",\"Nifty 500/GODREJIND\",\"Nifty 500/GODREJPROP\",\"Nifty 500/GPPL\",\"Nifty 500/GRANULES\",\"Nifty 500/GRAPHITE\",\"Nifty 500/GRASIM\",\"Nifty 500/GREENPANEL\",\"Nifty 500/GRINDWELL\",\"Nifty 500/GRINFRA\",\"Nifty 500/GSFC\",\"Nifty 500/HAPPSTMNDS\",\"Nifty 500/HATSUN\",\"Nifty 500/HAVELLS\",\"Nifty 500/HCLTECH\",\"Nifty 500/HDFC\",\"Nifty 500/HDFCAMC\",\"Nifty 500/HDFCBANK\",\"Nifty 500/HDFCLIFE\",\"Nifty 500/HEG\",\"Nifty 500/HEROMOTOCO\",\"Nifty 500/HFCL\",\"Nifty 500/HINDALCO\",\"Nifty 500/HINDCOPPER\",\"Nifty 500/HINDPETRO\",\"Nifty 500/HINDUNILVR\",\"Nifty 500/HINDZINC\",\"Nifty 500/HOMEFIRST\",\"Nifty 500/IBREALEST\",\"Nifty 500/ICICIBANK\",\"Nifty 500/ICICIGI\",\"Nifty 500/ICICIPRULI\",\"Nifty 500/IDBI\",\"Nifty 500/IDEA\",\"Nifty 500/IDFC\",\"Nifty 500/IDFCFIRSTB\",\"Nifty 500/IEX\",\"Nifty 500/IIFL\",\"Nifty 500/INDHOTEL\",\"Nifty 500/INDIAMART\",\"Nifty 500/INDIANB\",\"Nifty 500/INDIGO\",\"Nifty 500/INDIGOPNTS\",\"Nifty 500/INDOCO\",\"Nifty 500/INDUSINDBK\",\"Nifty 500/INDUSTOWER\",\"Nifty 500/INFIBEAM\",\"Nifty 500/INFY\",\"Nifty 500/INOXLEISUR\",\"Nifty 500/INTELLECT\",\"Nifty 500/IOB\",\"Nifty 500/IOC\",\"Nifty 500/IRB\",\"Nifty 500/IRCTC\",\"Nifty 500/ISEC\",\"Nifty 500/ITC\",\"Nifty 500/ITI\",\"Nifty 500/JAMNAAUTO\",\"Nifty 500/JBMA\",\"Nifty 500/JINDALSTEL\",\"Nifty 500/JKCEMENT\",\"Nifty 500/JKLAKSHMI\",\"Nifty 500/JKPAPER\",\"Nifty 500/JMFINANCIL\",\"Nifty 500/JSL\",\"Nifty 500/JSWENERGY\",\"Nifty 500/JSWSTEEL\",\"Nifty 500/JUBLFOOD\",\"Nifty 500/JUBLINGREA\",\"Nifty 500/JUBLPHARMA\",\"Nifty 500/JUSTDIAL\",\"Nifty 500/JYOTHYLAB\",\"Nifty 500/KAJARIACER\",\"Nifty 500/KALPATPOWR\",\"Nifty 500/KALYANKJIL\",\"Nifty 500/KARURVYSYA\",\"Nifty 500/KEC\",\"Nifty 500/KEI\",\"Nifty 500/KIMS\",\"Nifty 500/KOTAKBANK\",\"Nifty 500/KPRMILL\",\"Nifty 500/KRBL\",\"Nifty 500/LALPATHLAB\",\"Nifty 500/LATENTVIEW\",\"Nifty 500/LAURUSLABS\",\"Nifty 500/LEMONTREE\",\"Nifty 500/LICHSGFIN\",\"Nifty 500/LICI\",\"Nifty 500/LINDEINDIA\",\"Nifty 500/LODHA\",\"Nifty 500/LT\",\"Nifty 500/LTIM\",\"Nifty 500/LTTS\",\"Nifty 500/LUPIN\",\"Nifty 500/LXCHEM\",\"Nifty 500/MAHABANK\",\"Nifty 500/MAHINDCIE\",\"Nifty 500/MAHLIFE\",\"Nifty 500/MANAPPURAM\",\"Nifty 500/MARICO\",\"Nifty 500/MARUTI\",\"Nifty 500/MASTEK\",\"Nifty 500/MAXHEALTH\",\"Nifty 500/MCDOWELL-N\",\"Nifty 500/MCX\",\"Nifty 500/METROBRAND\",\"Nifty 500/MFSL\",\"Nifty 500/MHRIL\",\"Nifty 500/MMTC\",\"Nifty 500/MOIL\",\"Nifty 500/MOTHERSON\",\"Nifty 500/MOTILALOFS\",\"Nifty 500/MPHASIS\",\"Nifty 500/MRPL\",\"Nifty 500/MTARTECH\",\"Nifty 500/NATCOPHARM\",\"Nifty 500/NAUKRI\",\"Nifty 500/NAZARA\",\"Nifty 500/NBCC\",\"Nifty 500/NCC\",\"Nifty 500/NETWORK18\",\"Nifty 500/NH\",\"Nifty 500/NHPC\",\"Nifty 500/NIACL\",\"Nifty 500/NOCIL\",\"Nifty 500/NTPC\",\"Nifty 500/OFSS\",\"Nifty 500/ONGC\",\"Nifty 500/ORIENTELEC\",\"Nifty 500/PAGEIND\",\"Nifty 500/PAYTM\",\"Nifty 500/PERSISTENT\",\"Nifty 500/PETRONET\",\"Nifty 500/PGHH\",\"Nifty 500/PHOENIXLTD\",\"Nifty 500/PIDILITIND\",\"Nifty 500/PIIND\",\"Nifty 500/PNB\",\"Nifty 500/PNBHOUSING\",\"Nifty 500/PNCINFRA\",\"Nifty 500/POLICYBZR\",\"Nifty 500/POLYCAB\",\"Nifty 500/POLYMED\",\"Nifty 500/POONAWALLA\",\"Nifty 500/POWERGRID\",\"Nifty 500/POWERINDIA\",\"Nifty 500/PRAJIND\",\"Nifty 500/PRIVISCL\",\"Nifty 500/PRSMJOHNSN\",\"Nifty 500/PVR\",\"Nifty 500/QUESS\",\"Nifty 500/RADICO\",\"Nifty 500/RAJESHEXPO\",\"Nifty 500/RALLIS\",\"Nifty 500/RAMCOCEM\",\"Nifty 500/RAYMOND\",\"Nifty 500/RBLBANK\",\"Nifty 500/RCF\",\"Nifty 500/RECLTD\",\"Nifty 500/RELAXO\",\"Nifty 500/RELIANCE\",\"Nifty 500/RENUKA\",\"Nifty 500/RHIM\",\"Nifty 500/RITES\",\"Nifty 500/ROSSARI\",\"Nifty 500/ROUTE\",\"Nifty 500/RTNINDIA\",\"Nifty 500/RVNL\",\"Nifty 500/SANOFI\",\"Nifty 500/SAPPHIRE\",\"Nifty 500/SBICARD\",\"Nifty 500/SBILIFE\",\"Nifty 500/SBIN\",\"Nifty 500/SCHAEFFLER\",\"Nifty 500/SFL\",\"Nifty 500/SHARDACROP\",\"Nifty 500/SHOPERSTOP\",\"Nifty 500/SHREECEM\",\"Nifty 500/SHRIRAMFIN\",\"Nifty 500/SHYAMMETL\",\"Nifty 500/SIEMENS\",\"Nifty 500/SJVN\",\"Nifty 500/SKFINDIA\",\"Nifty 500/SOBHA\",\"Nifty 500/SOLARINDS\",\"Nifty 500/SONACOMS\",\"Nifty 500/SONATSOFTW\",\"Nifty 500/SPARC\",\"Nifty 500/STARHEALTH\",\"Nifty 500/STLTECH\",\"Nifty 500/SUDARSCHEM\",\"Nifty 500/SUNDRMFAST\",\"Nifty 500/SUNPHARMA\",\"Nifty 500/SUNTECK\",\"Nifty 500/SUPRAJIT\",\"Nifty 500/SUVENPHAR\",\"Nifty 500/SUZLON\",\"Nifty 500/SWANENERGY\",\"Nifty 500/SWSOLAR\",\"Nifty 500/SYMPHONY\",\"Nifty 500/SYNGENE\",\"Nifty 500/TANLA\",\"Nifty 500/TATACHEM\",\"Nifty 500/TATACOFFEE\",\"Nifty 500/TATACOMM\",\"Nifty 500/TATACONSUM\",\"Nifty 500/TATAELXSI\",\"Nifty 500/TATAINVEST\",\"Nifty 500/TATAMOTORS\",\"Nifty 500/TATAMTRDVR\",\"Nifty 500/TATAPOWER\",\"Nifty 500/TATASTEEL\",\"Nifty 500/TCI\",\"Nifty 500/TCIEXP\",\"Nifty 500/TCS\",\"Nifty 500/TEAMLEASE\",\"Nifty 500/TECHM\",\"Nifty 500/TIMKEN\",\"Nifty 500/TITAN\",\"Nifty 500/TORNTPOWER\",\"Nifty 500/TRENT\",\"Nifty 500/TRIDENT\",\"Nifty 500/TRITURBINE\",\"Nifty 500/TRIVENI\",\"Nifty 500/TTKPRESTIG\",\"Nifty 500/TV18BRDCST\",\"Nifty 500/TVSMOTOR\",\"Nifty 500/UBL\",\"Nifty 500/UCOBANK\",\"Nifty 500/UFLEX\",\"Nifty 500/ULTRACEMCO\",\"Nifty 500/UNIONBANK\",\"Nifty 500/UNOMINDA\",\"Nifty 500/VARROC\",\"Nifty 500/VEDL\",\"Nifty 500/VGUARD\",\"Nifty 500/VINATIORGA\",\"Nifty 500/VMART\",\"Nifty 500/VTL\",\"Nifty 500/WELCORP\",\"Nifty 500/WELSPUNIND\",\"Nifty 500/WESTLIFE\",\"Nifty 500/WIPRO\",\"Nifty 500/YESBANK\",\"Nifty 500/ZYDUSLIFE\",\"Nifty 500/ZYDUSWELL\",\"Nifty 500\"],\"labels\":[\"360ONE\",\"AARTIDRUGS\",\"AAVAS\",\"ABB\",\"ABCAPITAL\",\"ABFRL\",\"ACC\",\"ADANIENT\",\"ADANIGREEN\",\"ADANIPORTS\",\"ADANITRANS\",\"AEGISCHEM\",\"AETHER\",\"AFFLE\",\"AIAENG\",\"AJANTPHARM\",\"ALKEM\",\"ALOKINDS\",\"AMBUJACEM\",\"ANGELONE\",\"ANURAS\",\"APLLTD\",\"APOLLOHOSP\",\"ASAHIINDIA\",\"ASHOKLEY\",\"ASIANPAINT\",\"ASTERDM\",\"ASTRAL\",\"ATGL\",\"ATUL\",\"AUBANK\",\"AUROPHARMA\",\"AVANTIFEED\",\"AWL\",\"AXISBANK\",\"BAJAJ-AUTO\",\"BAJAJFINSV\",\"BAJAJHLDNG\",\"BAJFINANCE\",\"BALAMINES\",\"BALRAMCHIN\",\"BANDHANBNK\",\"BANKBARODA\",\"BANKINDIA\",\"BASF\",\"BBTC\",\"BCG\",\"BDL\",\"BEL\",\"BHARATFORG\",\"BHARTIARTL\",\"BHEL\",\"BIOCON\",\"BIRLACORPN\",\"BLUESTARCO\",\"BORORENEW\",\"BOSCHLTD\",\"BPCL\",\"BRIGADE\",\"BSE\",\"BSOFT\",\"CAMS\",\"CANBK\",\"CANFINHOME\",\"CAPLIPOINT\",\"CARBORUNIV\",\"CASTROLIND\",\"CCL\",\"CENTRALBK\",\"CENTURYTEX\",\"CERA\",\"CGCL\",\"CGPOWER\",\"CHALET\",\"CHAMBLFERT\",\"CHEMPLASTS\",\"CHOLAFIN\",\"CIPLA\",\"CLEAN\",\"COALINDIA\",\"COCHINSHIP\",\"COFORGE\",\"COLPAL\",\"CONCOR\",\"COROMANDEL\",\"CREDITACC\",\"CRISIL\",\"CROMPTON\",\"CSBBANK\",\"CUB\",\"CYIENT\",\"DABUR\",\"DALBHARAT\",\"DBL\",\"DCMSHRIRAM\",\"DEEPAKFERT\",\"DEEPAKNTR\",\"DELHIVERY\",\"DELTACORP\",\"DHANI\",\"DLF\",\"DMART\",\"DRREDDY\",\"EASEMYTRIP\",\"EDELWEISS\",\"EICHERMOT\",\"EIDPARRY\",\"ELGIEQUIP\",\"ENDURANCE\",\"ENGINERSIN\",\"EQUITASBNK\",\"ESCORTS\",\"EXIDEIND\",\"FDC\",\"FEDERALBNK\",\"FINCABLES\",\"FINPIPE\",\"FLUOROCHEM\",\"FORTIS\",\"FSL\",\"GAEL\",\"GALAXYSURF\",\"GARFIBRES\",\"GESHIP\",\"GLAND\",\"GLAXO\",\"GLENMARK\",\"GMMPFAUDLR\",\"GMRINFRA\",\"GNFC\",\"GOCOLORS\",\"GODREJAGRO\",\"GODREJCP\",\"GODREJIND\",\"GODREJPROP\",\"GPPL\",\"GRANULES\",\"GRAPHITE\",\"GRASIM\",\"GREENPANEL\",\"GRINDWELL\",\"GRINFRA\",\"GSFC\",\"HAPPSTMNDS\",\"HATSUN\",\"HAVELLS\",\"HCLTECH\",\"HDFC\",\"HDFCAMC\",\"HDFCBANK\",\"HDFCLIFE\",\"HEG\",\"HEROMOTOCO\",\"HFCL\",\"HINDALCO\",\"HINDCOPPER\",\"HINDPETRO\",\"HINDUNILVR\",\"HINDZINC\",\"HOMEFIRST\",\"IBREALEST\",\"ICICIBANK\",\"ICICIGI\",\"ICICIPRULI\",\"IDBI\",\"IDEA\",\"IDFC\",\"IDFCFIRSTB\",\"IEX\",\"IIFL\",\"INDHOTEL\",\"INDIAMART\",\"INDIANB\",\"INDIGO\",\"INDIGOPNTS\",\"INDOCO\",\"INDUSINDBK\",\"INDUSTOWER\",\"INFIBEAM\",\"INFY\",\"INOXLEISUR\",\"INTELLECT\",\"IOB\",\"IOC\",\"IRB\",\"IRCTC\",\"ISEC\",\"ITC\",\"ITI\",\"JAMNAAUTO\",\"JBMA\",\"JINDALSTEL\",\"JKCEMENT\",\"JKLAKSHMI\",\"JKPAPER\",\"JMFINANCIL\",\"JSL\",\"JSWENERGY\",\"JSWSTEEL\",\"JUBLFOOD\",\"JUBLINGREA\",\"JUBLPHARMA\",\"JUSTDIAL\",\"JYOTHYLAB\",\"KAJARIACER\",\"KALPATPOWR\",\"KALYANKJIL\",\"KARURVYSYA\",\"KEC\",\"KEI\",\"KIMS\",\"KOTAKBANK\",\"KPRMILL\",\"KRBL\",\"LALPATHLAB\",\"LATENTVIEW\",\"LAURUSLABS\",\"LEMONTREE\",\"LICHSGFIN\",\"LICI\",\"LINDEINDIA\",\"LODHA\",\"LT\",\"LTIM\",\"LTTS\",\"LUPIN\",\"LXCHEM\",\"MAHABANK\",\"MAHINDCIE\",\"MAHLIFE\",\"MANAPPURAM\",\"MARICO\",\"MARUTI\",\"MASTEK\",\"MAXHEALTH\",\"MCDOWELL-N\",\"MCX\",\"METROBRAND\",\"MFSL\",\"MHRIL\",\"MMTC\",\"MOIL\",\"MOTHERSON\",\"MOTILALOFS\",\"MPHASIS\",\"MRPL\",\"MTARTECH\",\"NATCOPHARM\",\"NAUKRI\",\"NAZARA\",\"NBCC\",\"NCC\",\"NETWORK18\",\"NH\",\"NHPC\",\"NIACL\",\"NOCIL\",\"NTPC\",\"OFSS\",\"ONGC\",\"ORIENTELEC\",\"PAGEIND\",\"PAYTM\",\"PERSISTENT\",\"PETRONET\",\"PGHH\",\"PHOENIXLTD\",\"PIDILITIND\",\"PIIND\",\"PNB\",\"PNBHOUSING\",\"PNCINFRA\",\"POLICYBZR\",\"POLYCAB\",\"POLYMED\",\"POONAWALLA\",\"POWERGRID\",\"POWERINDIA\",\"PRAJIND\",\"PRIVISCL\",\"PRSMJOHNSN\",\"PVR\",\"QUESS\",\"RADICO\",\"RAJESHEXPO\",\"RALLIS\",\"RAMCOCEM\",\"RAYMOND\",\"RBLBANK\",\"RCF\",\"RECLTD\",\"RELAXO\",\"RELIANCE\",\"RENUKA\",\"RHIM\",\"RITES\",\"ROSSARI\",\"ROUTE\",\"RTNINDIA\",\"RVNL\",\"SANOFI\",\"SAPPHIRE\",\"SBICARD\",\"SBILIFE\",\"SBIN\",\"SCHAEFFLER\",\"SFL\",\"SHARDACROP\",\"SHOPERSTOP\",\"SHREECEM\",\"SHRIRAMFIN\",\"SHYAMMETL\",\"SIEMENS\",\"SJVN\",\"SKFINDIA\",\"SOBHA\",\"SOLARINDS\",\"SONACOMS\",\"SONATSOFTW\",\"SPARC\",\"STARHEALTH\",\"STLTECH\",\"SUDARSCHEM\",\"SUNDRMFAST\",\"SUNPHARMA\",\"SUNTECK\",\"SUPRAJIT\",\"SUVENPHAR\",\"SUZLON\",\"SWANENERGY\",\"SWSOLAR\",\"SYMPHONY\",\"SYNGENE\",\"TANLA\",\"TATACHEM\",\"TATACOFFEE\",\"TATACOMM\",\"TATACONSUM\",\"TATAELXSI\",\"TATAINVEST\",\"TATAMOTORS\",\"TATAMTRDVR\",\"TATAPOWER\",\"TATASTEEL\",\"TCI\",\"TCIEXP\",\"TCS\",\"TEAMLEASE\",\"TECHM\",\"TIMKEN\",\"TITAN\",\"TORNTPOWER\",\"TRENT\",\"TRIDENT\",\"TRITURBINE\",\"TRIVENI\",\"TTKPRESTIG\",\"TV18BRDCST\",\"TVSMOTOR\",\"UBL\",\"UCOBANK\",\"UFLEX\",\"ULTRACEMCO\",\"UNIONBANK\",\"UNOMINDA\",\"VARROC\",\"VEDL\",\"VGUARD\",\"VINATIORGA\",\"VMART\",\"VTL\",\"WELCORP\",\"WELSPUNIND\",\"WESTLIFE\",\"WIPRO\",\"YESBANK\",\"ZYDUSLIFE\",\"ZYDUSWELL\",\"Nifty 500\"],\"marker\":{\"coloraxis\":\"coloraxis\",\"colors\":[0.0,0.0,0.0,0.0,0.0,-0.212,0.232,0.017,0.347,0.134,0.0,-0.092,0.049,0.0,0.0,0.0,0.0,0.127,0.104,0.137,0.0,0.119,-0.026,0.0,0.147,0.115,0.199,0.296,0.0,0.11,0.164,0.079,-0.318,0.71,0.181,0.0,-0.047,0.0,0.191,0.0,0.832,0.137,0.236,0.007,0.045,0.0,0.0,0.273,0.0,0.494,-0.043,0.113,0.267,0.0,0.191,-0.115,0.0,-0.013,0.0,0.238,0.216,0.127,0.164,0.0,-0.026,0.0,-0.07,-0.035,0.14,0.0,0.0,0.0,0.166,0.0,0.0,0.0,0.0,0.068,0.402,0.08,0.0,0.063,0.22,0.0,0.0,0.0,0.0,-0.026,0.0,0.0,0.073,0.043,0.0,0.0,-0.004,0.0,0.0,0.105,0.147,0.0,-0.013,0.088,-0.11,0.2,0.0,0.095,0.0,0.099,0.382,0.0,-0.159,0.127,0.0,0.0,0.019,-0.099,0.0,0.0,0.0,0.663,0.0,-0.013,0.382,0.596,0.183,0.0,0.062,0.127,0.0,0.0,0.0,0.0,0.191,0.0,0.0,0.0,0.095,-0.026,0.0,0.0,0.0,0.0,0.0,0.714,0.088,0.055,0.061,0.076,0.66,0.063,0.176,0.0,0.557,0.226,0.0,0.0,0.124,0.0,0.063,0.0,0.0,0.119,0.055,0.069,0.082,0.0,0.0,0.11,0.382,0.1,-0.024,0.11,0.0,0.053,-0.296,0.077,0.1,0.0,0.0,0.147,0.0,0.522,-0.026,-0.08,-0.159,0.0,0.296,0.0,0.1,0.0,0.0,0.0,0.181,0.388,0.388,0.0,0.22,0.314,0.073,0.612,0.612,0.765,0.063,-0.318,0.0,0.226,0.186,0.064,0.0,0.0,0.147,-0.004,0.0,0.0,0.0,0.0,-0.113,0.0,0.046,0.0,0.0,0.0,0.103,0.0,0.14,0.094,0.0,0.135,-0.026,0.297,0.0,0.0,0.119,0.115,0.0,0.402,0.0,0.049,-0.3,0.382,-0.296,0.0,0.0,0.0,0.11,-0.318,0.0,0.0,0.0,0.0,0.318,0.057,0.0,0.0,0.0,0.34,0.0,0.046,0.11,-0.043,0.0,0.0,0.127,0.156,0.0,0.494,0.0,0.074,0.0,0.0,0.0,0.191,0.0,0.055,0.0,0.095,0.0,0.25,0.0,0.271,0.0,0.0,0.0,0.0,0.247,0.083,0.271,-0.159,-0.026,0.0,0.0,0.099,0.177,0.0,0.0,0.0,0.0,0.368,0.0,-0.064,-0.013,0.0,0.411,0.11,0.092,0.0,0.0,0.0,-0.059,0.0,0.045,0.273,0.0,0.134,0.25,0.113,0.0,0.165,0.0,0.25,-0.238,0.0,0.0,0.266,0.0,0.0,0.0,0.067,0.273,0.273,0.068,-0.026,0.0,0.0,0.0,0.147,0.44,-0.01,-0.013,0.083,-0.013,-0.013,0.081,0.04,-0.026,-0.013,0.256,0.0,0.0,-0.026,0.242,-0.318,0.111,0.0,0.0,0.0,0.089,0.088,0.0,0.407,0.099,-0.318,0.073,0.151,0.0,0.0,0.273,0.099,-0.049,0.0,-0.159,0.0,0.134,0.0,0.063,0.433,0.269,0.431,0.07583333333333334]},\"name\":\"\",\"parents\":[\"Nifty 500\",\"Nifty 500\",\"Nifty 500\",\"Nifty 500\",\"Nifty 500\",\"Nifty 500\",\"Nifty 500\",\"Nifty 500\",\"Nifty 500\",\"Nifty 500\",\"Nifty 500\",\"Nifty 500\",\"Nifty 500\",\"Nifty 500\",\"Nifty 500\",\"Nifty 500\",\"Nifty 500\",\"Nifty 500\",\"Nifty 500\",\"Nifty 500\",\"Nifty 500\",\"Nifty 500\",\"Nifty 500\",\"Nifty 500\",\"Nifty 500\",\"Nifty 500\",\"Nifty 500\",\"Nifty 500\",\"Nifty 500\",\"Nifty 500\",\"Nifty 500\",\"Nifty 500\",\"Nifty 500\",\"Nifty 500\",\"Nifty 500\",\"Nifty 500\",\"Nifty 500\",\"Nifty 500\",\"Nifty 500\",\"Nifty 500\",\"Nifty 500\",\"Nifty 500\",\"Nifty 500\",\"Nifty 500\",\"Nifty 500\",\"Nifty 500\",\"Nifty 500\",\"Nifty 500\",\"Nifty 500\",\"Nifty 500\",\"Nifty 500\",\"Nifty 500\",\"Nifty 500\",\"Nifty 500\",\"Nifty 500\",\"Nifty 500\",\"Nifty 500\",\"Nifty 500\",\"Nifty 500\",\"Nifty 500\",\"Nifty 500\",\"Nifty 500\",\"Nifty 500\",\"Nifty 500\",\"Nifty 500\",\"Nifty 500\",\"Nifty 500\",\"Nifty 500\",\"Nifty 500\",\"Nifty 500\",\"Nifty 500\",\"Nifty 500\",\"Nifty 500\",\"Nifty 500\",\"Nifty 500\",\"Nifty 500\",\"Nifty 500\",\"Nifty 500\",\"Nifty 500\",\"Nifty 500\",\"Nifty 500\",\"Nifty 500\",\"Nifty 500\",\"Nifty 500\",\"Nifty 500\",\"Nifty 500\",\"Nifty 500\",\"Nifty 500\",\"Nifty 500\",\"Nifty 500\",\"Nifty 500\",\"Nifty 500\",\"Nifty 500\",\"Nifty 500\",\"Nifty 500\",\"Nifty 500\",\"Nifty 500\",\"Nifty 500\",\"Nifty 500\",\"Nifty 500\",\"Nifty 500\",\"Nifty 500\",\"Nifty 500\",\"Nifty 500\",\"Nifty 500\",\"Nifty 500\",\"Nifty 500\",\"Nifty 500\",\"Nifty 500\",\"Nifty 500\",\"Nifty 500\",\"Nifty 500\",\"Nifty 500\",\"Nifty 500\",\"Nifty 500\",\"Nifty 500\",\"Nifty 500\",\"Nifty 500\",\"Nifty 500\",\"Nifty 500\",\"Nifty 500\",\"Nifty 500\",\"Nifty 500\",\"Nifty 500\",\"Nifty 500\",\"Nifty 500\",\"Nifty 500\",\"Nifty 500\",\"Nifty 500\",\"Nifty 500\",\"Nifty 500\",\"Nifty 500\",\"Nifty 500\",\"Nifty 500\",\"Nifty 500\",\"Nifty 500\",\"Nifty 500\",\"Nifty 500\",\"Nifty 500\",\"Nifty 500\",\"Nifty 500\",\"Nifty 500\",\"Nifty 500\",\"Nifty 500\",\"Nifty 500\",\"Nifty 500\",\"Nifty 500\",\"Nifty 500\",\"Nifty 500\",\"Nifty 500\",\"Nifty 500\",\"Nifty 500\",\"Nifty 500\",\"Nifty 500\",\"Nifty 500\",\"Nifty 500\",\"Nifty 500\",\"Nifty 500\",\"Nifty 500\",\"Nifty 500\",\"Nifty 500\",\"Nifty 500\",\"Nifty 500\",\"Nifty 500\",\"Nifty 500\",\"Nifty 500\",\"Nifty 500\",\"Nifty 500\",\"Nifty 500\",\"Nifty 500\",\"Nifty 500\",\"Nifty 500\",\"Nifty 500\",\"Nifty 500\",\"Nifty 500\",\"Nifty 500\",\"Nifty 500\",\"Nifty 500\",\"Nifty 500\",\"Nifty 500\",\"Nifty 500\",\"Nifty 500\",\"Nifty 500\",\"Nifty 500\",\"Nifty 500\",\"Nifty 500\",\"Nifty 500\",\"Nifty 500\",\"Nifty 500\",\"Nifty 500\",\"Nifty 500\",\"Nifty 500\",\"Nifty 500\",\"Nifty 500\",\"Nifty 500\",\"Nifty 500\",\"Nifty 500\",\"Nifty 500\",\"Nifty 500\",\"Nifty 500\",\"Nifty 500\",\"Nifty 500\",\"Nifty 500\",\"Nifty 500\",\"Nifty 500\",\"Nifty 500\",\"Nifty 500\",\"Nifty 500\",\"Nifty 500\",\"Nifty 500\",\"Nifty 500\",\"Nifty 500\",\"Nifty 500\",\"Nifty 500\",\"Nifty 500\",\"Nifty 500\",\"Nifty 500\",\"Nifty 500\",\"Nifty 500\",\"Nifty 500\",\"Nifty 500\",\"Nifty 500\",\"Nifty 500\",\"Nifty 500\",\"Nifty 500\",\"Nifty 500\",\"Nifty 500\",\"Nifty 500\",\"Nifty 500\",\"Nifty 500\",\"Nifty 500\",\"Nifty 500\",\"Nifty 500\",\"Nifty 500\",\"Nifty 500\",\"Nifty 500\",\"Nifty 500\",\"Nifty 500\",\"Nifty 500\",\"Nifty 500\",\"Nifty 500\",\"Nifty 500\",\"Nifty 500\",\"Nifty 500\",\"Nifty 500\",\"Nifty 500\",\"Nifty 500\",\"Nifty 500\",\"Nifty 500\",\"Nifty 500\",\"Nifty 500\",\"Nifty 500\",\"Nifty 500\",\"Nifty 500\",\"Nifty 500\",\"Nifty 500\",\"Nifty 500\",\"Nifty 500\",\"Nifty 500\",\"Nifty 500\",\"Nifty 500\",\"Nifty 500\",\"Nifty 500\",\"Nifty 500\",\"Nifty 500\",\"Nifty 500\",\"Nifty 500\",\"Nifty 500\",\"Nifty 500\",\"Nifty 500\",\"Nifty 500\",\"Nifty 500\",\"Nifty 500\",\"Nifty 500\",\"Nifty 500\",\"Nifty 500\",\"Nifty 500\",\"Nifty 500\",\"Nifty 500\",\"Nifty 500\",\"Nifty 500\",\"Nifty 500\",\"Nifty 500\",\"Nifty 500\",\"Nifty 500\",\"Nifty 500\",\"Nifty 500\",\"Nifty 500\",\"Nifty 500\",\"Nifty 500\",\"Nifty 500\",\"Nifty 500\",\"Nifty 500\",\"Nifty 500\",\"Nifty 500\",\"Nifty 500\",\"Nifty 500\",\"Nifty 500\",\"Nifty 500\",\"Nifty 500\",\"Nifty 500\",\"Nifty 500\",\"Nifty 500\",\"Nifty 500\",\"Nifty 500\",\"Nifty 500\",\"Nifty 500\",\"Nifty 500\",\"Nifty 500\",\"Nifty 500\",\"Nifty 500\",\"Nifty 500\",\"Nifty 500\",\"Nifty 500\",\"Nifty 500\",\"Nifty 500\",\"Nifty 500\",\"Nifty 500\",\"Nifty 500\",\"Nifty 500\",\"Nifty 500\",\"Nifty 500\",\"Nifty 500\",\"Nifty 500\",\"Nifty 500\",\"Nifty 500\",\"Nifty 500\",\"Nifty 500\",\"Nifty 500\",\"Nifty 500\",\"Nifty 500\",\"Nifty 500\",\"Nifty 500\",\"Nifty 500\",\"Nifty 500\",\"Nifty 500\",\"Nifty 500\",\"Nifty 500\",\"Nifty 500\",\"Nifty 500\",\"Nifty 500\",\"Nifty 500\",\"Nifty 500\",\"Nifty 500\",\"Nifty 500\",\"Nifty 500\",\"Nifty 500\",\"Nifty 500\",\"Nifty 500\",\"Nifty 500\",\"Nifty 500\",\"Nifty 500\",\"Nifty 500\",\"Nifty 500\",\"Nifty 500\",\"Nifty 500\",\"Nifty 500\",\"Nifty 500\",\"Nifty 500\",\"Nifty 500\",\"Nifty 500\",\"Nifty 500\",\"Nifty 500\",\"Nifty 500\",\"Nifty 500\",\"Nifty 500\",\"Nifty 500\",\"Nifty 500\",\"Nifty 500\",\"Nifty 500\",\"Nifty 500\",\"Nifty 500\",\"Nifty 500\",\"Nifty 500\",\"Nifty 500\",\"Nifty 500\",\"Nifty 500\",\"Nifty 500\",\"\"],\"values\":[1,1,1,1,1,1,1,1,1,1,1,1,1,1,1,1,1,1,1,1,1,1,1,1,1,1,1,1,1,1,1,1,1,1,1,1,1,1,1,1,1,1,1,1,1,1,1,1,1,1,1,1,1,1,1,1,1,1,1,1,1,1,1,1,1,1,1,1,1,1,1,1,1,1,1,1,1,1,1,1,1,1,1,1,1,1,1,1,1,1,1,1,1,1,1,1,1,1,1,1,1,1,1,1,1,1,1,1,1,1,1,1,1,1,1,1,1,1,1,1,1,1,1,1,1,1,1,1,1,1,1,1,1,1,1,1,1,1,1,1,1,1,1,1,1,1,1,1,1,1,1,1,1,1,1,1,1,1,1,1,1,1,1,1,1,1,1,1,1,1,1,1,1,1,1,1,1,1,1,1,1,1,1,1,1,1,1,1,1,1,1,1,1,1,1,1,1,1,1,1,1,1,1,1,1,1,1,1,1,1,1,1,1,1,1,1,1,1,1,1,1,1,1,1,1,1,1,1,1,1,1,1,1,1,1,1,1,1,1,1,1,1,1,1,1,1,1,1,1,1,1,1,1,1,1,1,1,1,1,1,1,1,1,1,1,1,1,1,1,1,1,1,1,1,1,1,1,1,1,1,1,1,1,1,1,1,1,1,1,1,1,1,1,1,1,1,1,1,1,1,1,1,1,1,1,1,1,1,1,1,1,1,1,1,1,1,1,1,1,1,1,1,1,1,1,1,1,1,1,1,1,1,1,1,1,1,1,1,1,1,1,1,1,1,1,1,1,1,1,1,1,1,1,1,1,1,1,1,1,1,1,1,1,1,1,1,1,1,1,1,1,1,1,1,1,1,1,1,378],\"type\":\"treemap\",\"texttemplate\":\"%{label}<br>%{customdata[4]}\",\"textposition\":\"middle center\"}],                        {\"template\":{\"data\":{\"bar\":[{\"error_x\":{\"color\":\"#2a3f5f\"},\"error_y\":{\"color\":\"#2a3f5f\"},\"marker\":{\"line\":{\"color\":\"#E5ECF6\",\"width\":0.5},\"pattern\":{\"fillmode\":\"overlay\",\"size\":10,\"solidity\":0.2}},\"type\":\"bar\"}],\"barpolar\":[{\"marker\":{\"line\":{\"color\":\"#E5ECF6\",\"width\":0.5},\"pattern\":{\"fillmode\":\"overlay\",\"size\":10,\"solidity\":0.2}},\"type\":\"barpolar\"}],\"carpet\":[{\"aaxis\":{\"endlinecolor\":\"#2a3f5f\",\"gridcolor\":\"white\",\"linecolor\":\"white\",\"minorgridcolor\":\"white\",\"startlinecolor\":\"#2a3f5f\"},\"baxis\":{\"endlinecolor\":\"#2a3f5f\",\"gridcolor\":\"white\",\"linecolor\":\"white\",\"minorgridcolor\":\"white\",\"startlinecolor\":\"#2a3f5f\"},\"type\":\"carpet\"}],\"choropleth\":[{\"colorbar\":{\"outlinewidth\":0,\"ticks\":\"\"},\"type\":\"choropleth\"}],\"contour\":[{\"colorbar\":{\"outlinewidth\":0,\"ticks\":\"\"},\"colorscale\":[[0.0,\"#0d0887\"],[0.1111111111111111,\"#46039f\"],[0.2222222222222222,\"#7201a8\"],[0.3333333333333333,\"#9c179e\"],[0.4444444444444444,\"#bd3786\"],[0.5555555555555556,\"#d8576b\"],[0.6666666666666666,\"#ed7953\"],[0.7777777777777778,\"#fb9f3a\"],[0.8888888888888888,\"#fdca26\"],[1.0,\"#f0f921\"]],\"type\":\"contour\"}],\"contourcarpet\":[{\"colorbar\":{\"outlinewidth\":0,\"ticks\":\"\"},\"type\":\"contourcarpet\"}],\"heatmap\":[{\"colorbar\":{\"outlinewidth\":0,\"ticks\":\"\"},\"colorscale\":[[0.0,\"#0d0887\"],[0.1111111111111111,\"#46039f\"],[0.2222222222222222,\"#7201a8\"],[0.3333333333333333,\"#9c179e\"],[0.4444444444444444,\"#bd3786\"],[0.5555555555555556,\"#d8576b\"],[0.6666666666666666,\"#ed7953\"],[0.7777777777777778,\"#fb9f3a\"],[0.8888888888888888,\"#fdca26\"],[1.0,\"#f0f921\"]],\"type\":\"heatmap\"}],\"heatmapgl\":[{\"colorbar\":{\"outlinewidth\":0,\"ticks\":\"\"},\"colorscale\":[[0.0,\"#0d0887\"],[0.1111111111111111,\"#46039f\"],[0.2222222222222222,\"#7201a8\"],[0.3333333333333333,\"#9c179e\"],[0.4444444444444444,\"#bd3786\"],[0.5555555555555556,\"#d8576b\"],[0.6666666666666666,\"#ed7953\"],[0.7777777777777778,\"#fb9f3a\"],[0.8888888888888888,\"#fdca26\"],[1.0,\"#f0f921\"]],\"type\":\"heatmapgl\"}],\"histogram\":[{\"marker\":{\"pattern\":{\"fillmode\":\"overlay\",\"size\":10,\"solidity\":0.2}},\"type\":\"histogram\"}],\"histogram2d\":[{\"colorbar\":{\"outlinewidth\":0,\"ticks\":\"\"},\"colorscale\":[[0.0,\"#0d0887\"],[0.1111111111111111,\"#46039f\"],[0.2222222222222222,\"#7201a8\"],[0.3333333333333333,\"#9c179e\"],[0.4444444444444444,\"#bd3786\"],[0.5555555555555556,\"#d8576b\"],[0.6666666666666666,\"#ed7953\"],[0.7777777777777778,\"#fb9f3a\"],[0.8888888888888888,\"#fdca26\"],[1.0,\"#f0f921\"]],\"type\":\"histogram2d\"}],\"histogram2dcontour\":[{\"colorbar\":{\"outlinewidth\":0,\"ticks\":\"\"},\"colorscale\":[[0.0,\"#0d0887\"],[0.1111111111111111,\"#46039f\"],[0.2222222222222222,\"#7201a8\"],[0.3333333333333333,\"#9c179e\"],[0.4444444444444444,\"#bd3786\"],[0.5555555555555556,\"#d8576b\"],[0.6666666666666666,\"#ed7953\"],[0.7777777777777778,\"#fb9f3a\"],[0.8888888888888888,\"#fdca26\"],[1.0,\"#f0f921\"]],\"type\":\"histogram2dcontour\"}],\"mesh3d\":[{\"colorbar\":{\"outlinewidth\":0,\"ticks\":\"\"},\"type\":\"mesh3d\"}],\"parcoords\":[{\"line\":{\"colorbar\":{\"outlinewidth\":0,\"ticks\":\"\"}},\"type\":\"parcoords\"}],\"pie\":[{\"automargin\":true,\"type\":\"pie\"}],\"scatter\":[{\"marker\":{\"colorbar\":{\"outlinewidth\":0,\"ticks\":\"\"}},\"type\":\"scatter\"}],\"scatter3d\":[{\"line\":{\"colorbar\":{\"outlinewidth\":0,\"ticks\":\"\"}},\"marker\":{\"colorbar\":{\"outlinewidth\":0,\"ticks\":\"\"}},\"type\":\"scatter3d\"}],\"scattercarpet\":[{\"marker\":{\"colorbar\":{\"outlinewidth\":0,\"ticks\":\"\"}},\"type\":\"scattercarpet\"}],\"scattergeo\":[{\"marker\":{\"colorbar\":{\"outlinewidth\":0,\"ticks\":\"\"}},\"type\":\"scattergeo\"}],\"scattergl\":[{\"marker\":{\"colorbar\":{\"outlinewidth\":0,\"ticks\":\"\"}},\"type\":\"scattergl\"}],\"scattermapbox\":[{\"marker\":{\"colorbar\":{\"outlinewidth\":0,\"ticks\":\"\"}},\"type\":\"scattermapbox\"}],\"scatterpolar\":[{\"marker\":{\"colorbar\":{\"outlinewidth\":0,\"ticks\":\"\"}},\"type\":\"scatterpolar\"}],\"scatterpolargl\":[{\"marker\":{\"colorbar\":{\"outlinewidth\":0,\"ticks\":\"\"}},\"type\":\"scatterpolargl\"}],\"scatterternary\":[{\"marker\":{\"colorbar\":{\"outlinewidth\":0,\"ticks\":\"\"}},\"type\":\"scatterternary\"}],\"surface\":[{\"colorbar\":{\"outlinewidth\":0,\"ticks\":\"\"},\"colorscale\":[[0.0,\"#0d0887\"],[0.1111111111111111,\"#46039f\"],[0.2222222222222222,\"#7201a8\"],[0.3333333333333333,\"#9c179e\"],[0.4444444444444444,\"#bd3786\"],[0.5555555555555556,\"#d8576b\"],[0.6666666666666666,\"#ed7953\"],[0.7777777777777778,\"#fb9f3a\"],[0.8888888888888888,\"#fdca26\"],[1.0,\"#f0f921\"]],\"type\":\"surface\"}],\"table\":[{\"cells\":{\"fill\":{\"color\":\"#EBF0F8\"},\"line\":{\"color\":\"white\"}},\"header\":{\"fill\":{\"color\":\"#C8D4E3\"},\"line\":{\"color\":\"white\"}},\"type\":\"table\"}]},\"layout\":{\"annotationdefaults\":{\"arrowcolor\":\"#2a3f5f\",\"arrowhead\":0,\"arrowwidth\":1},\"autotypenumbers\":\"strict\",\"coloraxis\":{\"colorbar\":{\"outlinewidth\":0,\"ticks\":\"\"}},\"colorscale\":{\"diverging\":[[0,\"#8e0152\"],[0.1,\"#c51b7d\"],[0.2,\"#de77ae\"],[0.3,\"#f1b6da\"],[0.4,\"#fde0ef\"],[0.5,\"#f7f7f7\"],[0.6,\"#e6f5d0\"],[0.7,\"#b8e186\"],[0.8,\"#7fbc41\"],[0.9,\"#4d9221\"],[1,\"#276419\"]],\"sequential\":[[0.0,\"#0d0887\"],[0.1111111111111111,\"#46039f\"],[0.2222222222222222,\"#7201a8\"],[0.3333333333333333,\"#9c179e\"],[0.4444444444444444,\"#bd3786\"],[0.5555555555555556,\"#d8576b\"],[0.6666666666666666,\"#ed7953\"],[0.7777777777777778,\"#fb9f3a\"],[0.8888888888888888,\"#fdca26\"],[1.0,\"#f0f921\"]],\"sequentialminus\":[[0.0,\"#0d0887\"],[0.1111111111111111,\"#46039f\"],[0.2222222222222222,\"#7201a8\"],[0.3333333333333333,\"#9c179e\"],[0.4444444444444444,\"#bd3786\"],[0.5555555555555556,\"#d8576b\"],[0.6666666666666666,\"#ed7953\"],[0.7777777777777778,\"#fb9f3a\"],[0.8888888888888888,\"#fdca26\"],[1.0,\"#f0f921\"]]},\"colorway\":[\"#636efa\",\"#EF553B\",\"#00cc96\",\"#ab63fa\",\"#FFA15A\",\"#19d3f3\",\"#FF6692\",\"#B6E880\",\"#FF97FF\",\"#FECB52\"],\"font\":{\"color\":\"#2a3f5f\"},\"geo\":{\"bgcolor\":\"white\",\"lakecolor\":\"white\",\"landcolor\":\"#E5ECF6\",\"showlakes\":true,\"showland\":true,\"subunitcolor\":\"white\"},\"hoverlabel\":{\"align\":\"left\"},\"hovermode\":\"closest\",\"mapbox\":{\"style\":\"light\"},\"paper_bgcolor\":\"white\",\"plot_bgcolor\":\"#E5ECF6\",\"polar\":{\"angularaxis\":{\"gridcolor\":\"white\",\"linecolor\":\"white\",\"ticks\":\"\"},\"bgcolor\":\"#E5ECF6\",\"radialaxis\":{\"gridcolor\":\"white\",\"linecolor\":\"white\",\"ticks\":\"\"}},\"scene\":{\"xaxis\":{\"backgroundcolor\":\"#E5ECF6\",\"gridcolor\":\"white\",\"gridwidth\":2,\"linecolor\":\"white\",\"showbackground\":true,\"ticks\":\"\",\"zerolinecolor\":\"white\"},\"yaxis\":{\"backgroundcolor\":\"#E5ECF6\",\"gridcolor\":\"white\",\"gridwidth\":2,\"linecolor\":\"white\",\"showbackground\":true,\"ticks\":\"\",\"zerolinecolor\":\"white\"},\"zaxis\":{\"backgroundcolor\":\"#E5ECF6\",\"gridcolor\":\"white\",\"gridwidth\":2,\"linecolor\":\"white\",\"showbackground\":true,\"ticks\":\"\",\"zerolinecolor\":\"white\"}},\"shapedefaults\":{\"line\":{\"color\":\"#2a3f5f\"}},\"ternary\":{\"aaxis\":{\"gridcolor\":\"white\",\"linecolor\":\"white\",\"ticks\":\"\"},\"baxis\":{\"gridcolor\":\"white\",\"linecolor\":\"white\",\"ticks\":\"\"},\"bgcolor\":\"#E5ECF6\",\"caxis\":{\"gridcolor\":\"white\",\"linecolor\":\"white\",\"ticks\":\"\"}},\"title\":{\"x\":0.05},\"xaxis\":{\"automargin\":true,\"gridcolor\":\"white\",\"linecolor\":\"white\",\"ticks\":\"\",\"title\":{\"standoff\":15},\"zerolinecolor\":\"white\",\"zerolinewidth\":2},\"yaxis\":{\"automargin\":true,\"gridcolor\":\"white\",\"linecolor\":\"white\",\"ticks\":\"\",\"title\":{\"standoff\":15},\"zerolinecolor\":\"white\",\"zerolinewidth\":2}}},\"coloraxis\":{\"colorbar\":{\"title\":{\"text\":\"Sentiment Score\"}},\"colorscale\":[[0.0,\"#FF0000\"],[0.5,\"#000000\"],[1.0,\"#00FF00\"]],\"cmid\":0},\"legend\":{\"tracegroupgap\":0},\"margin\":{\"t\":30,\"l\":10,\"r\":10,\"b\":10},\"font\":{\"size\":20}},                        {\"responsive\": true}                    ).then(function(){\n",
              "                            \n",
              "var gd = document.getElementById('a7ebd877-56c2-473f-b59b-8c0194a8e9b4');\n",
              "var x = new MutationObserver(function (mutations, observer) {{\n",
              "        var display = window.getComputedStyle(gd).display;\n",
              "        if (!display || display === 'none') {{\n",
              "            console.log([gd, 'removed!']);\n",
              "            Plotly.purge(gd);\n",
              "            observer.disconnect();\n",
              "        }}\n",
              "}});\n",
              "\n",
              "// Listen for the removal of the full notebook cells\n",
              "var notebookContainer = gd.closest('#notebook-container');\n",
              "if (notebookContainer) {{\n",
              "    x.observe(notebookContainer, {childList: true});\n",
              "}}\n",
              "\n",
              "// Listen for the clearing of the current output cell\n",
              "var outputEl = gd.closest('.output');\n",
              "if (outputEl) {{\n",
              "    x.observe(outputEl, {childList: true});\n",
              "}}\n",
              "\n",
              "                        })                };                            </script>        </div>\n",
              "</body>\n",
              "</html>"
            ]
          },
          "metadata": {}
        }
      ]
    },
    {
      "cell_type": "code",
      "source": [
        "sentiscore = final_df[['Company Name','Sentiment Score']]\n",
        "sentiscore = sentiscore.sort_values('Sentiment Score', ascending = False)"
      ],
      "metadata": {
        "id": "ZhPENyJoUAZu"
      },
      "execution_count": 19,
      "outputs": []
    },
    {
      "cell_type": "code",
      "source": [
        "sentiscore.to_csv('SentimentalScore.csv')"
      ],
      "metadata": {
        "id": "qDBRqjKYUUcF"
      },
      "execution_count": 20,
      "outputs": []
    },
    {
      "cell_type": "code",
      "source": [
        "# import kaleido\n",
        "fig.write_html('image.html')"
      ],
      "metadata": {
        "id": "WNizgylbShG3"
      },
      "execution_count": 21,
      "outputs": []
    },
    {
      "cell_type": "code",
      "source": [
        "# Get current date, time and timezone to print to the html page\n",
        "# now = datetime.datetime.now()\n",
        "# ist_timezone = pytz.timezone('Asia/Kolkata')\n",
        "# dt_string = now.astimezone(ist_timezone).strftime(\"%d/%m/%Y %H:%M:%S\")"
      ],
      "metadata": {
        "id": "oCUbqQ3QKWBK"
      },
      "execution_count": 22,
      "outputs": []
    },
    {
      "cell_type": "code",
      "source": [
        "# Generate HTML File with Updated Time and Treemap\n",
        "# print('Writing HTML')\n",
        "# with open('NIFTY_500_live_sentiment.html', 'a') as f:\n",
        "#     f.truncate(0) # clear file if something is already written on it\n",
        "#     title = \"<h1>NIFTY 500 Stock Sentiment Dashboard</h1>\"\n",
        "#     updated = \"<h2>Last updated: \" + dt_string + \" (Timezone: IST\" + \")</h2>\"\n",
        "#     description = \"This dashboard is updated at 17:30 IST Every Day with sentiment analysis performed on latest scraped news headlines.<br><br>\"\n",
        "#     f.write(title + updated + description)\n",
        "#     f.write(fig.to_html(full_html=False, include_plotlyjs='cdn')) # write the fig created above into the html file"
      ],
      "metadata": {
        "id": "H4p5gt9KKa0F"
      },
      "execution_count": 23,
      "outputs": []
    },
    {
      "cell_type": "code",
      "source": [
        "sentiscore.columns"
      ],
      "metadata": {
        "id": "8lCUKGFFbZbP",
        "outputId": "e76f9e1f-a687-4689-db0c-e724b21caa8a",
        "colab": {
          "base_uri": "https://localhost:8080/"
        }
      },
      "execution_count": 24,
      "outputs": [
        {
          "output_type": "execute_result",
          "data": {
            "text/plain": [
              "Index(['Company Name', 'Sentiment Score'], dtype='object')"
            ]
          },
          "metadata": {},
          "execution_count": 24
        }
      ]
    },
    {
      "cell_type": "code",
      "source": [
        "tnow = datetime.date.today()"
      ],
      "metadata": {
        "id": "M5gW3Ds6bbAX"
      },
      "execution_count": 33,
      "outputs": []
    },
    {
      "cell_type": "code",
      "source": [
        "tnow"
      ],
      "metadata": {
        "id": "W-P9GCMRbl_G",
        "outputId": "870260f2-2860-41d1-8fa5-7fc8eb200ec3",
        "colab": {
          "base_uri": "https://localhost:8080/"
        }
      },
      "execution_count": 34,
      "outputs": [
        {
          "output_type": "execute_result",
          "data": {
            "text/plain": [
              "datetime.date(2023, 1, 25)"
            ]
          },
          "metadata": {},
          "execution_count": 34
        }
      ]
    },
    {
      "cell_type": "code",
      "source": [
        "sentiscore.rename(columns={'Sentiment Score':'SSCore'+' '+str(tnow)})"
      ],
      "metadata": {
        "id": "BYzYEpGWb8eP",
        "outputId": "af789e78-3cbf-4337-bc05-8950d8ec35f9",
        "colab": {
          "base_uri": "https://localhost:8080/",
          "height": 423
        }
      },
      "execution_count": 36,
      "outputs": [
        {
          "output_type": "execute_result",
          "data": {
            "text/plain": [
              "                                      Company Name  SSCore 2023-01-25\n",
              "40                   Balrampur Chini Mills Limited              0.832\n",
              "201                      Jubilant Pharmova Limited              0.765\n",
              "143            Happiest Minds Technologies Limited              0.714\n",
              "33                            Adani Wilmar Limited              0.710\n",
              "119                  Firstsource Solutions Limited              0.663\n",
              "..                                             ...                ...\n",
              "361                                  UFLEX Limited             -0.318\n",
              "32                            Avanti Feeds Limited             -0.318\n",
              "245  Mangalore Refinery and Petrochemicals Limited             -0.318\n",
              "351                          Torrent Power Limited             -0.318\n",
              "203                            Jyothy Labs Limited             -0.318\n",
              "\n",
              "[378 rows x 2 columns]"
            ],
            "text/html": [
              "\n",
              "  <div id=\"df-dbc97b88-9d49-400c-9b2d-461c44c33cbe\">\n",
              "    <div class=\"colab-df-container\">\n",
              "      <div>\n",
              "<style scoped>\n",
              "    .dataframe tbody tr th:only-of-type {\n",
              "        vertical-align: middle;\n",
              "    }\n",
              "\n",
              "    .dataframe tbody tr th {\n",
              "        vertical-align: top;\n",
              "    }\n",
              "\n",
              "    .dataframe thead th {\n",
              "        text-align: right;\n",
              "    }\n",
              "</style>\n",
              "<table border=\"1\" class=\"dataframe\">\n",
              "  <thead>\n",
              "    <tr style=\"text-align: right;\">\n",
              "      <th></th>\n",
              "      <th>Company Name</th>\n",
              "      <th>SSCore 2023-01-25</th>\n",
              "    </tr>\n",
              "  </thead>\n",
              "  <tbody>\n",
              "    <tr>\n",
              "      <th>40</th>\n",
              "      <td>Balrampur Chini Mills Limited</td>\n",
              "      <td>0.832</td>\n",
              "    </tr>\n",
              "    <tr>\n",
              "      <th>201</th>\n",
              "      <td>Jubilant Pharmova Limited</td>\n",
              "      <td>0.765</td>\n",
              "    </tr>\n",
              "    <tr>\n",
              "      <th>143</th>\n",
              "      <td>Happiest Minds Technologies Limited</td>\n",
              "      <td>0.714</td>\n",
              "    </tr>\n",
              "    <tr>\n",
              "      <th>33</th>\n",
              "      <td>Adani Wilmar Limited</td>\n",
              "      <td>0.710</td>\n",
              "    </tr>\n",
              "    <tr>\n",
              "      <th>119</th>\n",
              "      <td>Firstsource Solutions Limited</td>\n",
              "      <td>0.663</td>\n",
              "    </tr>\n",
              "    <tr>\n",
              "      <th>...</th>\n",
              "      <td>...</td>\n",
              "      <td>...</td>\n",
              "    </tr>\n",
              "    <tr>\n",
              "      <th>361</th>\n",
              "      <td>UFLEX Limited</td>\n",
              "      <td>-0.318</td>\n",
              "    </tr>\n",
              "    <tr>\n",
              "      <th>32</th>\n",
              "      <td>Avanti Feeds Limited</td>\n",
              "      <td>-0.318</td>\n",
              "    </tr>\n",
              "    <tr>\n",
              "      <th>245</th>\n",
              "      <td>Mangalore Refinery and Petrochemicals Limited</td>\n",
              "      <td>-0.318</td>\n",
              "    </tr>\n",
              "    <tr>\n",
              "      <th>351</th>\n",
              "      <td>Torrent Power Limited</td>\n",
              "      <td>-0.318</td>\n",
              "    </tr>\n",
              "    <tr>\n",
              "      <th>203</th>\n",
              "      <td>Jyothy Labs Limited</td>\n",
              "      <td>-0.318</td>\n",
              "    </tr>\n",
              "  </tbody>\n",
              "</table>\n",
              "<p>378 rows × 2 columns</p>\n",
              "</div>\n",
              "      <button class=\"colab-df-convert\" onclick=\"convertToInteractive('df-dbc97b88-9d49-400c-9b2d-461c44c33cbe')\"\n",
              "              title=\"Convert this dataframe to an interactive table.\"\n",
              "              style=\"display:none;\">\n",
              "        \n",
              "  <svg xmlns=\"http://www.w3.org/2000/svg\" height=\"24px\"viewBox=\"0 0 24 24\"\n",
              "       width=\"24px\">\n",
              "    <path d=\"M0 0h24v24H0V0z\" fill=\"none\"/>\n",
              "    <path d=\"M18.56 5.44l.94 2.06.94-2.06 2.06-.94-2.06-.94-.94-2.06-.94 2.06-2.06.94zm-11 1L8.5 8.5l.94-2.06 2.06-.94-2.06-.94L8.5 2.5l-.94 2.06-2.06.94zm10 10l.94 2.06.94-2.06 2.06-.94-2.06-.94-.94-2.06-.94 2.06-2.06.94z\"/><path d=\"M17.41 7.96l-1.37-1.37c-.4-.4-.92-.59-1.43-.59-.52 0-1.04.2-1.43.59L10.3 9.45l-7.72 7.72c-.78.78-.78 2.05 0 2.83L4 21.41c.39.39.9.59 1.41.59.51 0 1.02-.2 1.41-.59l7.78-7.78 2.81-2.81c.8-.78.8-2.07 0-2.86zM5.41 20L4 18.59l7.72-7.72 1.47 1.35L5.41 20z\"/>\n",
              "  </svg>\n",
              "      </button>\n",
              "      \n",
              "  <style>\n",
              "    .colab-df-container {\n",
              "      display:flex;\n",
              "      flex-wrap:wrap;\n",
              "      gap: 12px;\n",
              "    }\n",
              "\n",
              "    .colab-df-convert {\n",
              "      background-color: #E8F0FE;\n",
              "      border: none;\n",
              "      border-radius: 50%;\n",
              "      cursor: pointer;\n",
              "      display: none;\n",
              "      fill: #1967D2;\n",
              "      height: 32px;\n",
              "      padding: 0 0 0 0;\n",
              "      width: 32px;\n",
              "    }\n",
              "\n",
              "    .colab-df-convert:hover {\n",
              "      background-color: #E2EBFA;\n",
              "      box-shadow: 0px 1px 2px rgba(60, 64, 67, 0.3), 0px 1px 3px 1px rgba(60, 64, 67, 0.15);\n",
              "      fill: #174EA6;\n",
              "    }\n",
              "\n",
              "    [theme=dark] .colab-df-convert {\n",
              "      background-color: #3B4455;\n",
              "      fill: #D2E3FC;\n",
              "    }\n",
              "\n",
              "    [theme=dark] .colab-df-convert:hover {\n",
              "      background-color: #434B5C;\n",
              "      box-shadow: 0px 1px 3px 1px rgba(0, 0, 0, 0.15);\n",
              "      filter: drop-shadow(0px 1px 2px rgba(0, 0, 0, 0.3));\n",
              "      fill: #FFFFFF;\n",
              "    }\n",
              "  </style>\n",
              "\n",
              "      <script>\n",
              "        const buttonEl =\n",
              "          document.querySelector('#df-dbc97b88-9d49-400c-9b2d-461c44c33cbe button.colab-df-convert');\n",
              "        buttonEl.style.display =\n",
              "          google.colab.kernel.accessAllowed ? 'block' : 'none';\n",
              "\n",
              "        async function convertToInteractive(key) {\n",
              "          const element = document.querySelector('#df-dbc97b88-9d49-400c-9b2d-461c44c33cbe');\n",
              "          const dataTable =\n",
              "            await google.colab.kernel.invokeFunction('convertToInteractive',\n",
              "                                                     [key], {});\n",
              "          if (!dataTable) return;\n",
              "\n",
              "          const docLinkHtml = 'Like what you see? Visit the ' +\n",
              "            '<a target=\"_blank\" href=https://colab.research.google.com/notebooks/data_table.ipynb>data table notebook</a>'\n",
              "            + ' to learn more about interactive tables.';\n",
              "          element.innerHTML = '';\n",
              "          dataTable['output_type'] = 'display_data';\n",
              "          await google.colab.output.renderOutput(dataTable, element);\n",
              "          const docLink = document.createElement('div');\n",
              "          docLink.innerHTML = docLinkHtml;\n",
              "          element.appendChild(docLink);\n",
              "        }\n",
              "      </script>\n",
              "    </div>\n",
              "  </div>\n",
              "  "
            ]
          },
          "metadata": {},
          "execution_count": 36
        }
      ]
    },
    {
      "cell_type": "code",
      "source": [],
      "metadata": {
        "id": "G-SkBZWRcMCh"
      },
      "execution_count": null,
      "outputs": []
    }
  ],
  "metadata": {
    "kernelspec": {
      "display_name": "Python 3",
      "language": "python",
      "name": "python3"
    },
    "language_info": {
      "codemirror_mode": {
        "name": "ipython",
        "version": 3
      },
      "file_extension": ".py",
      "mimetype": "text/x-python",
      "name": "python",
      "nbconvert_exporter": "python",
      "pygments_lexer": "ipython3",
      "version": "3.11.1"
    },
    "orig_nbformat": 4,
    "vscode": {
      "interpreter": {
        "hash": "236178af6f648e00519e077836b3ac634bd3def9b921796a679cc929c64b686e"
      }
    },
    "colab": {
      "provenance": [],
      "include_colab_link": true
    }
  },
  "nbformat": 4,
  "nbformat_minor": 0
}